{
  "cells": [
    {
      "cell_type": "markdown",
      "id": "1450558f-8932-468d-9401-6db67ea938e5",
      "metadata": {
        "id": "1450558f-8932-468d-9401-6db67ea938e5"
      },
      "source": [
        "# GPU bug report"
      ]
    },
    {
      "cell_type": "code",
      "source": [
        "!git clone https://github.com/joacorapela/svGPFA.git"
      ],
      "metadata": {
        "id": "EJoplmn_O5IG",
        "outputId": "a0ab09df-4057-4733-809f-ff6dd2afa759",
        "colab": {
          "base_uri": "https://localhost:8080/"
        }
      },
      "id": "EJoplmn_O5IG",
      "execution_count": 3,
      "outputs": [
        {
          "output_type": "stream",
          "name": "stdout",
          "text": [
            "Cloning into 'svGPFA'...\n",
            "remote: Enumerating objects: 11679, done.\u001b[K\n",
            "remote: Counting objects: 100% (2547/2547), done.\u001b[K\n",
            "remote: Compressing objects: 100% (877/877), done.\u001b[K\n",
            "remote: Total 11679 (delta 1556), reused 2473 (delta 1488), pack-reused 9132\u001b[K\n",
            "Receiving objects: 100% (11679/11679), 323.67 MiB | 25.83 MiB/s, done.\n",
            "Resolving deltas: 100% (7097/7097), done.\n",
            "Updating files: 100% (293/293), done.\n"
          ]
        }
      ]
    },
    {
      "cell_type": "code",
      "source": [
        "%cd svGPFA"
      ],
      "metadata": {
        "id": "u9dZTldcP9Lv",
        "outputId": "31e7a2b7-90e5-4d02-ee29-b015b800b875",
        "colab": {
          "base_uri": "https://localhost:8080/"
        }
      },
      "id": "u9dZTldcP9Lv",
      "execution_count": 7,
      "outputs": [
        {
          "output_type": "stream",
          "name": "stdout",
          "text": [
            "/content/svGPFA\n"
          ]
        }
      ]
    },
    {
      "cell_type": "code",
      "source": [
        "!git branch -a"
      ],
      "metadata": {
        "id": "UNAMhxV5QpnG",
        "outputId": "b88035c6-20e3-4c56-88a9-c0c954905be6",
        "colab": {
          "base_uri": "https://localhost:8080/"
        }
      },
      "id": "UNAMhxV5QpnG",
      "execution_count": 11,
      "outputs": [
        {
          "output_type": "stream",
          "name": "stdout",
          "text": [
            "* \u001b[32mmaster\u001b[m\n",
            "  \u001b[31mremotes/origin/HEAD\u001b[m -> origin/master\n",
            "  \u001b[31mremotes/origin/autogradJAX\u001b[m\n",
            "  \u001b[31mremotes/origin/changeOptimStrategy\u001b[m\n",
            "  \u001b[31mremotes/origin/changeOptimStrategyMAP\u001b[m\n",
            "  \u001b[31mremotes/origin/cholForPIndPoints\u001b[m\n",
            "  \u001b[31mremotes/origin/develop\u001b[m\n",
            "  \u001b[31mremotes/origin/firstRefactorPlusSVFrontEnd\u001b[m\n",
            "  \u001b[31mremotes/origin/gh-pages\u001b[m\n",
            "  \u001b[31mremotes/origin/master\u001b[m\n",
            "  \u001b[31mremotes/origin/olderSVEMwithNewerCode\u001b[m\n",
            "  \u001b[31mremotes/origin/optimAllParamsSimultaneously\u001b[m\n",
            "  \u001b[31mremotes/origin/pseudoInverse\u001b[m\n",
            "  \u001b[31mremotes/origin/scipyOptimize\u001b[m\n",
            "  \u001b[31mremotes/origin/scipyOptimizeWithHessian\u001b[m\n",
            "  \u001b[31mremotes/origin/scipyOptimizeWithHessianMAP\u001b[m\n",
            "  \u001b[31mremotes/origin/simultaneousEStepAndMStepKernels\u001b[m\n"
          ]
        }
      ]
    },
    {
      "cell_type": "code",
      "source": [
        "!git checkout optimAllParamsSimultaneouslyCUDA"
      ],
      "metadata": {
        "id": "rxnCWd_fQFyO",
        "outputId": "3ecb68ba-ee42-44c3-bdbf-81c0463580bb",
        "colab": {
          "base_uri": "https://localhost:8080/"
        }
      },
      "id": "rxnCWd_fQFyO",
      "execution_count": 10,
      "outputs": [
        {
          "output_type": "stream",
          "name": "stdout",
          "text": [
            "error: pathspec 'optimAllParamsSimultaneouslyCUDA' did not match any file(s) known to git\n"
          ]
        }
      ]
    },
    {
      "cell_type": "markdown",
      "id": "3b57b097-6337-486f-95fb-2393af54990a",
      "metadata": {
        "id": "3b57b097-6337-486f-95fb-2393af54990a"
      },
      "source": [
        "## Import requirements"
      ]
    },
    {
      "cell_type": "code",
      "execution_count": null,
      "id": "b6c2c9b1-a07d-4f58-a12a-f14995126d68",
      "metadata": {
        "id": "b6c2c9b1-a07d-4f58-a12a-f14995126d68"
      },
      "outputs": [],
      "source": [
        "import os\n",
        "import traceback\n",
        "import random\n",
        "import pickle\n",
        "import configparser\n",
        "import torch\n",
        "import plotly.graph_objects as go\n",
        "\n",
        "import gcnu_common.utils.config_dict\n",
        "import svGPFA.stats.svGPFAModelFactory\n",
        "import svGPFA.stats.svEM\n",
        "import svGPFA.utils.configUtils\n",
        "import svGPFA.utils.miscUtils\n",
        "import svGPFA.utils.initUtils"
      ]
    },
    {
      "cell_type": "markdown",
      "id": "fef022be-5589-4f95-87ba-420d32d3e30a",
      "metadata": {
        "id": "fef022be-5589-4f95-87ba-420d32d3e30a"
      },
      "source": [
        "## Configuration parameters"
      ]
    },
    {
      "cell_type": "code",
      "execution_count": null,
      "id": "1de4acee-fbda-4ab8-93d5-ac0f8d90786d",
      "metadata": {
        "id": "1de4acee-fbda-4ab8-93d5-ac0f8d90786d"
      },
      "outputs": [],
      "source": [
        "sim_res_number = 91450833\n",
        "est_init_number = 551\n",
        "n_repeats = 1\n",
        "cuda_device_index = 0\n",
        "est_init_config_filename_pattern = \"../data/{:08d}_estimation_metaData.ini\"\n",
        "sim_res_config_filename_pattern = \"../results/{:08d}_simulation_metaData.ini\""
      ]
    },
    {
      "cell_type": "markdown",
      "id": "a95de65a-c72a-4101-ab2e-10868a867b35",
      "metadata": {
        "id": "a95de65a-c72a-4101-ab2e-10868a867b35"
      },
      "source": [
        "# Load data"
      ]
    },
    {
      "cell_type": "code",
      "execution_count": null,
      "id": "608a393b-0b85-4128-8bde-3392baf108dd",
      "metadata": {
        "id": "608a393b-0b85-4128-8bde-3392baf108dd"
      },
      "outputs": [],
      "source": [
        "sim_res_config_filename = sim_res_config_filename_pattern.format(\n",
        "    sim_res_number)\n",
        "sim_res_config = configparser.ConfigParser()\n",
        "sim_res_config.read(sim_res_config_filename)\n",
        "sim_res_filename = sim_res_config[\"simulation_results\"][\"sim_res_filename\"]\n",
        "with open(sim_res_filename, \"rb\") as f:\n",
        "    sim_res = pickle.load(f)\n",
        "spikes_times = sim_res[\"spikes_times\"]\n",
        "n_trials = len(spikes_times)\n",
        "n_neurons = len(spikes_times[0])\n",
        "\n",
        "spikes_times = [[spikes_times[r][n].tolist() for n in range(n_neurons)]\n",
        "                for r in range(n_trials)]\n",
        "\n",
        "sim_init_config_filename = sim_res_config[\"simulation_params\"][\"sim_init_config_filename\"]\n",
        "sim_init_config = configparser.ConfigParser()\n",
        "sim_init_config.read(sim_init_config_filename)\n",
        "trials_start_times = [float(str) for str in sim_init_config[\"data_structure_params\"][\"trials_start_times\"][1:-1].split(\",\")]\n",
        "trials_end_times = [float(str) for str in sim_init_config[\"data_structure_params\"][\"trials_end_times\"][1:-1].split(\",\")]\n",
        "\n",
        "est_init_config_filename = est_init_config_filename_pattern.format(\n",
        "    est_init_number)\n",
        "est_init_config = configparser.ConfigParser()\n",
        "est_init_config.read(est_init_config_filename)\n",
        "n_latents = int(est_init_config[\"model_structure_params\"][\"n_latents\"])"
      ]
    },
    {
      "cell_type": "markdown",
      "id": "4dd0897d-fe23-46ef-aff2-275bd5e855b5",
      "metadata": {
        "id": "4dd0897d-fe23-46ef-aff2-275bd5e855b5"
      },
      "source": [
        "## Build parameters"
      ]
    },
    {
      "cell_type": "markdown",
      "id": "7d3b1408-397a-4810-af98-d67358409355",
      "metadata": {
        "id": "7d3b1408-397a-4810-af98-d67358409355"
      },
      "source": [
        "### Build configuration file parameter specifications"
      ]
    },
    {
      "cell_type": "code",
      "execution_count": null,
      "id": "3edeacce-cf75-4fc7-b3ba-8d876351128e",
      "metadata": {
        "id": "3edeacce-cf75-4fc7-b3ba-8d876351128e"
      },
      "outputs": [],
      "source": [
        "args_info = svGPFA.utils.initUtils.getArgsInfo()\n",
        "strings_dict = gcnu_common.utils.config_dict.GetDict(\n",
        "    config=est_init_config).get_dict()\n",
        "config_file_params = svGPFA.utils.initUtils.getParamsDictFromStringsDict(\n",
        "    n_latents=n_latents, n_trials=n_trials, strings_dict=strings_dict,\n",
        "    args_info=args_info)"
      ]
    },
    {
      "cell_type": "markdown",
      "id": "b1cc8398-a203-4df2-83ff-bbf9d4adfdf3",
      "metadata": {
        "id": "b1cc8398-a203-4df2-83ff-bbf9d4adfdf3"
      },
      "source": [
        "### Build default parameter specificiations"
      ]
    },
    {
      "cell_type": "code",
      "execution_count": null,
      "id": "9199430c-a419-488b-b558-82bea4e7ab82",
      "metadata": {
        "id": "9199430c-a419-488b-b558-82bea4e7ab82"
      },
      "outputs": [],
      "source": [
        "default_params = svGPFA.utils.initUtils.getDefaultParamsDict(\n",
        "    n_neurons=n_neurons, n_trials=n_trials, n_latents=n_latents)"
      ]
    },
    {
      "cell_type": "markdown",
      "id": "e240d516-a3b4-4850-9331-e05d15fdb266",
      "metadata": {
        "id": "e240d516-a3b4-4850-9331-e05d15fdb266"
      },
      "source": [
        "## Perform estimations"
      ]
    },
    {
      "cell_type": "code",
      "execution_count": null,
      "id": "481fc431-e048-4169-ac8a-492655d106e8",
      "metadata": {
        "id": "481fc431-e048-4169-ac8a-492655d106e8",
        "outputId": "827c137d-f6ca-4919-95a7-4af6b2edb97e"
      },
      "outputs": [
        {
          "name": "stdout",
          "output_type": "stream",
          "text": [
            "Processing device cpu, repeat 0\n",
            "Extracted config_file_params_spec[optim_params][n_quad]=200\n",
            "Extracted config_file_params_spec[ind_points_locs_params0][n_ind_points]=tensor([9, 9], dtype=torch.int32)\n",
            "Extracted from config_file c0_distribution=Normal, c0_loc=0.0, c0_scale=1.0, c0_random_seed=None\n",
            "Extracted from config_file d0_distribution=Normal, d0_loc=0.0, d0_scale=1.0, d0_random_seed=None\n",
            "Extracted from config_file k_type=exponentialQuadratic and k_lengthsales0=2.0\n",
            "Extracted from config_file ind_points_locs0_layout=uniform\n",
            "Extracted from config_file variational_mean0_constant_value=0.0\n",
            "Extracted from config_file variational_cov0_diag_value=0.1\n",
            "Extracted config_file_params_spec[optim_params][n_quad]=200\n",
            "Extracted config_file_params_spec[optim_params][prior_cov_reg_param]=0.001\n",
            "Extracted config_file_params_spec[optim_params][optim_method]=ECM\n",
            "Extracted config_file_params_spec[optim_params][em_max_iter]=10\n",
            "Extracted config_file_params_spec[optim_params][verbose]=True\n",
            "Extracted config_file_params_spec[optim_params][estep_estimate]=True\n",
            "Extracted config_file_params_spec[optim_params][estep_max_iter]=20\n",
            "Extracted config_file_params_spec[optim_params][estep_lr]=1.0\n",
            "Extracted config_file_params_spec[optim_params][estep_tolerance_grad]=1e-07\n",
            "Extracted config_file_params_spec[optim_params][estep_tolerance_change]=1e-09\n",
            "Extracted config_file_params_spec[optim_params][estep_line_search_fn]=strong_wolfe\n",
            "Extracted config_file_params_spec[optim_params][mstep_embedding_estimate]=True\n",
            "Extracted config_file_params_spec[optim_params][mstep_embedding_max_iter]=20\n",
            "Extracted config_file_params_spec[optim_params][mstep_embedding_lr]=1.0\n",
            "Extracted config_file_params_spec[optim_params][mstep_embedding_tolerance_grad]=1e-07\n",
            "Extracted config_file_params_spec[optim_params][mstep_embedding_tolerance_change]=1e-09\n",
            "Extracted config_file_params_spec[optim_params][mstep_embedding_line_search_fn]=strong_wolfe\n",
            "Extracted config_file_params_spec[optim_params][mstep_kernels_estimate]=True\n",
            "Extracted config_file_params_spec[optim_params][mstep_kernels_max_iter]=20\n",
            "Extracted config_file_params_spec[optim_params][mstep_kernels_lr]=0.01\n",
            "Extracted config_file_params_spec[optim_params][mstep_kernels_tolerance_grad]=1e-07\n",
            "Extracted config_file_params_spec[optim_params][mstep_kernels_tolerance_change]=1e-09\n",
            "Extracted config_file_params_spec[optim_params][mstep_kernels_line_search_fn]=strong_wolfe\n",
            "Extracted config_file_params_spec[optim_params][mstep_indpointslocs_estimate]=True\n",
            "Extracted config_file_params_spec[optim_params][mstep_indpointslocs_max_iter]=20\n",
            "Extracted config_file_params_spec[optim_params][mstep_indpointslocs_lr]=1.0\n",
            "Extracted config_file_params_spec[optim_params][mstep_indpointslocs_tolerance_grad]=1e-07\n",
            "Extracted config_file_params_spec[optim_params][mstep_indpointslocs_tolerance_change]=1e-09\n",
            "Extracted config_file_params_spec[optim_params][mstep_indpointslocs_line_search_fn]=strong_wolfe\n",
            "Extracted config_file_params_spec[optim_params][allsteps_estimate]=True\n",
            "Extracted config_file_params_spec[optim_params][allsteps_max_iter]=100\n",
            "Extracted config_file_params_spec[optim_params][allsteps_lr]=1.0\n",
            "Extracted config_file_params_spec[optim_params][allsteps_tolerance_grad]=0.0001\n",
            "Extracted config_file_params_spec[optim_params][allsteps_tolerance_change]=0.0001\n",
            "Extracted config_file_params_spec[optim_params][allsteps_line_search_fn]=strong_wolfe\n",
            "Iteration 01, start: -inf\n"
          ]
        },
        {
          "name": "stderr",
          "output_type": "stream",
          "text": [
            "/nfs/ghome/live/rapela/dev/work/ucl/gatsby-swc/gatsby/svGPFA/repos/svGPFA/src/svGPFA/stats/svEM.py:437: UserWarning:\n",
            "\n",
            "posterior variance is larger than the prior variance: k=0, r=8\n",
            "\n"
          ]
        },
        {
          "name": "stdout",
          "output_type": "stream",
          "text": [
            "tensor([-0.1829, -0.1519, -0.0471, -0.1304, -0.3737, -0.2755, -0.1392,  0.5764,\n",
            "         1.0626])\n"
          ]
        },
        {
          "name": "stderr",
          "output_type": "stream",
          "text": [
            "/nfs/ghome/live/rapela/dev/work/ucl/gatsby-swc/gatsby/svGPFA/repos/svGPFA/src/svGPFA/stats/svEM.py:437: UserWarning:\n",
            "\n",
            "posterior variance is larger than the prior variance: k=1, r=4\n",
            "\n"
          ]
        },
        {
          "name": "stdout",
          "output_type": "stream",
          "text": [
            "tensor([0.3023, 0.1575, 0.1859, 0.2234, 1.5235, 0.3777, 0.1733, 0.1784, 0.0769])\n",
            "Iteration 01, end: 15813.664215, niter: 71, nfeval: 125\n",
            "Iteration 02, start: 15813.664215\n",
            "Iteration 02, end: 20516.243141, niter: 100, nfeval: 106\n",
            "Iteration 03, start: 20516.243141\n"
          ]
        },
        {
          "name": "stderr",
          "output_type": "stream",
          "text": [
            "/nfs/ghome/live/rapela/dev/work/ucl/gatsby-swc/gatsby/svGPFA/repos/svGPFA/src/svGPFA/stats/svEM.py:437: UserWarning:\n",
            "\n",
            "posterior variance is larger than the prior variance: k=0, r=6\n",
            "\n"
          ]
        },
        {
          "name": "stdout",
          "output_type": "stream",
          "text": [
            "tensor([ 0.1364,  0.0660, -0.0682, -0.0470, -0.0677,  0.0673,  0.1121, -0.1815,\n",
            "         1.0008])\n",
            "tensor([ 0.1360,  0.0662, -0.0683, -0.0472, -0.0680,  0.0696,  0.1128, -0.1822,\n",
            "         1.0022])\n",
            "tensor([ 0.1354,  0.0664, -0.0686, -0.0471, -0.0681,  0.0732,  0.1137, -0.1834,\n",
            "         1.0041])\n",
            "Iteration 03, end: 20632.212469, niter: 100, nfeval: 102\n",
            "Iteration 04, start: 20632.212469\n",
            "tensor([ 0.1354,  0.0664, -0.0686, -0.0471, -0.0681,  0.0732,  0.1137, -0.1834,\n",
            "         1.0041])\n",
            "Iteration 04, end: 20657.925860, niter: 100, nfeval: 105\n",
            "Iteration 05, start: 20657.925860\n",
            "tensor([ 0.1934,  0.1070, -0.1145, -0.0512, -0.0962,  0.1167,  0.1862, -0.2546,\n",
            "         1.0000])\n",
            "tensor([ 0.1948,  0.1074, -0.1151, -0.0512, -0.0964,  0.1170,  0.1866, -0.2567,\n",
            "         1.0001])\n",
            "tensor([ 0.1959,  0.1078, -0.1154, -0.0512, -0.0965,  0.1172,  0.1868, -0.2582,\n",
            "         1.0002])\n",
            "tensor([ 0.1966,  0.1080, -0.1156, -0.0511, -0.0965,  0.1172,  0.1868, -0.2591,\n",
            "         1.0002])\n",
            "tensor([ 0.1988,  0.1087, -0.1160, -0.0513, -0.0965,  0.1176,  0.1873, -0.2621,\n",
            "         1.0004])\n",
            "tensor([ 0.2009,  0.1092, -0.1164, -0.0516, -0.0966,  0.1181,  0.1876, -0.2648,\n",
            "         1.0005])\n",
            "tensor([ 0.2009,  0.1092, -0.1163, -0.0516, -0.0966,  0.1181,  0.1876, -0.2648,\n",
            "         1.0005])\n",
            "tensor([ 0.2018,  0.1094, -0.1165, -0.0519, -0.0969,  0.1184,  0.1878, -0.2660,\n",
            "         1.0006])\n",
            "tensor([ 0.2027,  0.1097, -0.1165, -0.0520, -0.0971,  0.1187,  0.1880, -0.2672,\n",
            "         1.0006])\n",
            "tensor([ 0.2056,  0.1107, -0.1169, -0.0525, -0.0979,  0.1196,  0.1888, -0.2710,\n",
            "         1.0008])\n",
            "tensor([ 0.2067,  0.1112, -0.1169, -0.0526, -0.0982,  0.1199,  0.1889, -0.2724,\n",
            "         1.0009])\n",
            "tensor([ 0.2071,  0.1114, -0.1170, -0.0525, -0.0984,  0.1201,  0.1890, -0.2730,\n",
            "         1.0009])\n",
            "tensor([ 0.2080,  0.1119, -0.1172, -0.0526, -0.0988,  0.1205,  0.1894, -0.2743,\n",
            "         1.0010])\n",
            "tensor([ 0.2095,  0.1125, -0.1177, -0.0527, -0.0996,  0.1212,  0.1899, -0.2765,\n",
            "         1.0011])\n",
            "tensor([ 0.2104,  0.1128, -0.1181, -0.0529, -0.1001,  0.1217,  0.1903, -0.2779,\n",
            "         1.0011])\n",
            "tensor([ 0.2116,  0.1131, -0.1189, -0.0532, -0.1008,  0.1225,  0.1910, -0.2800,\n",
            "         1.0012])\n",
            "tensor([ 0.2126,  0.1134, -0.1196, -0.0533, -0.1013,  0.1231,  0.1916, -0.2816,\n",
            "         1.0013])\n",
            "tensor([ 0.2138,  0.1139, -0.1208, -0.0535, -0.1023,  0.1242,  0.1926, -0.2841,\n",
            "         1.0015])\n",
            "Iteration 05, end: 20666.887071, niter: 100, nfeval: 102\n",
            "Iteration 06, start: 20666.887071\n",
            "tensor([ 0.2138,  0.1139, -0.1208, -0.0535, -0.1023,  0.1242,  0.1926, -0.2841,\n",
            "         1.0015])\n",
            "tensor([ 0.2133,  0.1141, -0.1207, -0.0531, -0.1020,  0.1241,  0.1931, -0.2839,\n",
            "         1.0000])\n",
            "tensor([ 0.2131,  0.1140, -0.1207, -0.0531, -0.1019,  0.1241,  0.1933, -0.2838,\n",
            "         1.0000])\n",
            "tensor([ 0.2128,  0.1139, -0.1208, -0.0531, -0.1017,  0.1241,  0.1936, -0.2837,\n",
            "         1.0000])\n",
            "tensor([ 0.2127,  0.1139, -0.1208, -0.0531, -0.1016,  0.1241,  0.1937, -0.2837,\n",
            "         1.0000])\n",
            "tensor([ 0.2126,  0.1139, -0.1208, -0.0531, -0.1016,  0.1241,  0.1938, -0.2836,\n",
            "         1.0000])\n",
            "tensor([ 0.2124,  0.1139, -0.1209, -0.0531, -0.1015,  0.1241,  0.1940, -0.2836,\n",
            "         1.0000])\n",
            "tensor([ 0.2120,  0.1138, -0.1210, -0.0530, -0.1014,  0.1241,  0.1945, -0.2834,\n",
            "         1.0000])\n",
            "tensor([ 0.2118,  0.1138, -0.1211, -0.0530, -0.1013,  0.1241,  0.1947, -0.2833,\n",
            "         1.0000])\n",
            "tensor([ 0.2117,  0.1138, -0.1212, -0.0530, -0.1013,  0.1241,  0.1948, -0.2832,\n",
            "         1.0000])\n",
            "tensor([ 0.2116,  0.1138, -0.1213, -0.0529, -0.1013,  0.1241,  0.1950, -0.2832,\n",
            "         1.0000])\n",
            "tensor([ 0.2114,  0.1138, -0.1214, -0.0529, -0.1013,  0.1241,  0.1953, -0.2830,\n",
            "         1.0000])\n",
            "tensor([ 0.2108,  0.1138, -0.1218, -0.0529, -0.1014,  0.1240,  0.1960, -0.2827,\n",
            "         1.0000])\n",
            "tensor([ 0.2103,  0.1138, -0.1221, -0.0528, -0.1015,  0.1239,  0.1967, -0.2824,\n",
            "         1.0000])\n",
            "tensor([ 0.2103,  0.1138, -0.1221, -0.0529, -0.1015,  0.1240,  0.1967, -0.2824,\n",
            "         1.0000])\n",
            "tensor([ 0.2103,  0.1138, -0.1221, -0.0529, -0.1016,  0.1239,  0.1967, -0.2824,\n",
            "         1.0000])\n",
            "tensor([ 0.2102,  0.1138, -0.1221, -0.0530, -0.1017,  0.1239,  0.1970, -0.2822,\n",
            "         1.0000])\n",
            "tensor([ 0.2099,  0.1139, -0.1223, -0.0530, -0.1018,  0.1239,  0.1974, -0.2820,\n",
            "         1.0000])\n",
            "tensor([ 0.2096,  0.1141, -0.1224, -0.0530, -0.1020,  0.1238,  0.1979, -0.2817,\n",
            "         1.0000])\n",
            "tensor([ 0.2092,  0.1142, -0.1224, -0.0529, -0.1022,  0.1238,  0.1984, -0.2814,\n",
            "         1.0000])\n",
            "tensor([ 0.2092,  0.1143, -0.1224, -0.0528, -0.1023,  0.1237,  0.1985, -0.2814,\n",
            "         1.0000])\n",
            "tensor([ 0.2091,  0.1145, -0.1223, -0.0527, -0.1024,  0.1237,  0.1986, -0.2813,\n",
            "         1.0000])\n",
            "tensor([ 0.2090,  0.1147, -0.1222, -0.0525, -0.1026,  0.1237,  0.1988, -0.2812,\n",
            "         1.0000])\n",
            "tensor([ 0.2088,  0.1149, -0.1221, -0.0524, -0.1027,  0.1237,  0.1990, -0.2810,\n",
            "         1.0000])\n",
            "tensor([ 0.2086,  0.1151, -0.1221, -0.0524, -0.1028,  0.1237,  0.1992, -0.2809,\n",
            "         1.0000])\n",
            "tensor([ 0.2084,  0.1152, -0.1221, -0.0523, -0.1030,  0.1237,  0.1994, -0.2807,\n",
            "         1.0000])\n",
            "tensor([ 0.2080,  0.1155, -0.1221, -0.0522, -0.1032,  0.1237,  0.1998, -0.2804,\n",
            "         1.0000])\n",
            "tensor([ 0.2079,  0.1155, -0.1221, -0.0522, -0.1032,  0.1237,  0.1998, -0.2804,\n",
            "         1.0000])\n",
            "tensor([ 0.2079,  0.1155, -0.1220, -0.0522, -0.1032,  0.1237,  0.1997, -0.2804,\n",
            "         1.0000])\n",
            "tensor([ 0.2078,  0.1156, -0.1220, -0.0522, -0.1033,  0.1238,  0.1997, -0.2804,\n",
            "         1.0000])\n",
            "tensor([ 0.2075,  0.1158, -0.1219, -0.0523, -0.1034,  0.1239,  0.1998, -0.2804,\n",
            "         1.0000])\n",
            "tensor([ 0.2070,  0.1162, -0.1217, -0.0525, -0.1038,  0.1242,  0.2000, -0.2802,\n",
            "         1.0001])\n",
            "tensor([ 0.2073,  0.1160, -0.1218, -0.0524, -0.1036,  0.1241,  0.1999, -0.2803,\n",
            "         1.0001])\n",
            "tensor([ 0.2070,  0.1162, -0.1217, -0.0525, -0.1037,  0.1242,  0.2000, -0.2802,\n",
            "         1.0001])\n",
            "tensor([ 0.2069,  0.1163, -0.1216, -0.0526, -0.1038,  0.1243,  0.2000, -0.2802,\n",
            "         1.0001])\n",
            "tensor([ 0.2068,  0.1164, -0.1216, -0.0527, -0.1039,  0.1245,  0.2000, -0.2803,\n",
            "         1.0001])\n",
            "tensor([ 0.2067,  0.1164, -0.1216, -0.0528, -0.1040,  0.1246,  0.1999, -0.2804,\n",
            "         1.0001])\n",
            "tensor([ 0.2067,  0.1164, -0.1216, -0.0528, -0.1040,  0.1248,  0.1999, -0.2805,\n",
            "         1.0001])\n",
            "tensor([ 0.2066,  0.1165, -0.1215, -0.0529, -0.1041,  0.1251,  0.1998, -0.2807,\n",
            "         1.0001])\n",
            "tensor([ 0.2066,  0.1165, -0.1216, -0.0530, -0.1042,  0.1254,  0.1997, -0.2808,\n",
            "         1.0001])\n",
            "tensor([ 0.2065,  0.1165, -0.1216, -0.0530, -0.1042,  0.1255,  0.1997, -0.2809,\n",
            "         1.0001])\n",
            "tensor([ 0.2066,  0.1166, -0.1218, -0.0529, -0.1043,  0.1258,  0.1996, -0.2811,\n",
            "         1.0001])\n",
            "tensor([ 0.2066,  0.1166, -0.1219, -0.0528, -0.1044,  0.1260,  0.1996, -0.2813,\n",
            "         1.0001])\n",
            "tensor([ 0.2067,  0.1166, -0.1221, -0.0527, -0.1044,  0.1263,  0.1995, -0.2816,\n",
            "         1.0001])\n",
            "tensor([ 0.2069,  0.1166, -0.1225, -0.0525, -0.1045,  0.1267,  0.1993, -0.2821,\n",
            "         1.0001])\n",
            "tensor([ 0.2072,  0.1166, -0.1229, -0.0524, -0.1046,  0.1272,  0.1991, -0.2826,\n",
            "         1.0001])\n",
            "tensor([ 0.2072,  0.1167, -0.1229, -0.0524, -0.1046,  0.1272,  0.1991, -0.2827,\n",
            "         1.0001])\n",
            "tensor([ 0.2073,  0.1167, -0.1231, -0.0525, -0.1046,  0.1273,  0.1991, -0.2829,\n",
            "         1.0001])\n",
            "tensor([ 0.2074,  0.1168, -0.1232, -0.0525, -0.1046,  0.1274,  0.1991, -0.2832,\n",
            "         1.0001])\n",
            "tensor([ 0.2077,  0.1168, -0.1236, -0.0526, -0.1047,  0.1277,  0.1990, -0.2838,\n",
            "         1.0001])\n",
            "tensor([ 0.2082,  0.1170, -0.1241, -0.0529, -0.1049,  0.1283,  0.1989, -0.2851,\n",
            "         1.0001])\n",
            "tensor([ 0.2080,  0.1169, -0.1238, -0.0527, -0.1048,  0.1280,  0.1990, -0.2845,\n",
            "         1.0001])\n",
            "tensor([ 0.2082,  0.1170, -0.1240, -0.0529, -0.1049,  0.1282,  0.1990, -0.2850,\n",
            "         1.0001])\n",
            "tensor([ 0.2084,  0.1170, -0.1241, -0.0529, -0.1049,  0.1283,  0.1990, -0.2854,\n",
            "         1.0001])\n",
            "tensor([ 0.2085,  0.1171, -0.1241, -0.0530, -0.1050,  0.1284,  0.1990, -0.2859,\n",
            "         1.0001])\n",
            "tensor([ 0.2089,  0.1171, -0.1242, -0.0531, -0.1052,  0.1284,  0.1991, -0.2866,\n",
            "         1.0001])\n",
            "tensor([ 0.2090,  0.1172, -0.1242, -0.0531, -0.1052,  0.1285,  0.1992, -0.2871,\n",
            "         1.0001])\n",
            "tensor([ 0.2093,  0.1172, -0.1243, -0.0530, -0.1054,  0.1285,  0.1994, -0.2877,\n",
            "         1.0001])\n",
            "tensor([ 0.2095,  0.1173, -0.1244, -0.0530, -0.1055,  0.1285,  0.1995, -0.2882,\n",
            "         1.0002])\n",
            "tensor([ 0.2097,  0.1173, -0.1245, -0.0530, -0.1055,  0.1285,  0.1996, -0.2887,\n",
            "         1.0002])\n",
            "tensor([ 0.2101,  0.1174, -0.1247, -0.0531, -0.1057,  0.1285,  0.1999, -0.2897,\n",
            "         1.0002])\n",
            "tensor([ 0.2104,  0.1175, -0.1248, -0.0531, -0.1058,  0.1285,  0.2001, -0.2902,\n",
            "         1.0002])\n",
            "tensor([ 0.2104,  0.1175, -0.1248, -0.0531, -0.1058,  0.1285,  0.2002, -0.2903,\n",
            "         1.0002])\n",
            "tensor([ 0.2107,  0.1178, -0.1249, -0.0531, -0.1060,  0.1284,  0.2005, -0.2910,\n",
            "         1.0002])\n",
            "tensor([ 0.2112,  0.1180, -0.1252, -0.0531, -0.1062,  0.1284,  0.2010, -0.2920,\n",
            "         1.0002])\n",
            "tensor([ 0.2114,  0.1181, -0.1253, -0.0531, -0.1063,  0.1284,  0.2011, -0.2924,\n",
            "         1.0002])\n",
            "tensor([ 0.2119,  0.1183, -0.1255, -0.0532, -0.1065,  0.1284,  0.2015, -0.2932,\n",
            "         1.0002])\n",
            "tensor([ 0.2122,  0.1185, -0.1255, -0.0532, -0.1066,  0.1285,  0.2018, -0.2938,\n",
            "         1.0002])\n",
            "tensor([ 0.2130,  0.1187, -0.1257, -0.0533, -0.1069,  0.1286,  0.2026, -0.2953,\n",
            "         1.0002])\n",
            "tensor([ 0.2134,  0.1189, -0.1257, -0.0534, -0.1071,  0.1287,  0.2030, -0.2961,\n",
            "         1.0002])\n",
            "tensor([ 0.2135,  0.1189, -0.1256, -0.0534, -0.1070,  0.1288,  0.2031, -0.2961,\n",
            "         1.0002])\n",
            "tensor([ 0.2138,  0.1189, -0.1255, -0.0534, -0.1071,  0.1289,  0.2034, -0.2966,\n",
            "         1.0002])\n",
            "tensor([ 0.2145,  0.1191, -0.1254, -0.0535, -0.1072,  0.1291,  0.2039, -0.2977,\n",
            "         1.0002])\n",
            "tensor([ 0.2149,  0.1192, -0.1255, -0.0535, -0.1074,  0.1294,  0.2044, -0.2985,\n",
            "         1.0002])\n",
            "tensor([ 0.2155,  0.1195, -0.1256, -0.0536, -0.1076,  0.1297,  0.2050, -0.2997,\n",
            "         1.0002])\n",
            "tensor([ 0.2160,  0.1197, -0.1256, -0.0536, -0.1077,  0.1299,  0.2054, -0.3005,\n",
            "         1.0002])\n",
            "tensor([ 0.2166,  0.1199, -0.1258, -0.0538, -0.1079,  0.1303,  0.2061, -0.3018,\n",
            "         1.0002])\n",
            "tensor([ 0.2168,  0.1200, -0.1258, -0.0539, -0.1079,  0.1306,  0.2063, -0.3023,\n",
            "         1.0003])\n",
            "tensor([ 0.2170,  0.1200, -0.1259, -0.0540, -0.1079,  0.1308,  0.2065, -0.3028,\n",
            "         1.0003])\n",
            "tensor([ 0.2172,  0.1200, -0.1260, -0.0541, -0.1079,  0.1311,  0.2068, -0.3034,\n",
            "         1.0003])\n",
            "tensor([ 0.2176,  0.1200, -0.1262, -0.0542, -0.1080,  0.1314,  0.2072, -0.3044,\n",
            "         1.0003])\n",
            "tensor([ 0.2180,  0.1201, -0.1264, -0.0542, -0.1082,  0.1317,  0.2076, -0.3055,\n",
            "         1.0003])\n",
            "tensor([ 0.2184,  0.1202, -0.1266, -0.0542, -0.1083,  0.1321,  0.2081, -0.3067,\n",
            "         1.0003])\n",
            "tensor([ 0.2186,  0.1203, -0.1267, -0.0541, -0.1085,  0.1322,  0.2082, -0.3072,\n",
            "         1.0003])\n",
            "tensor([ 0.2188,  0.1204, -0.1268, -0.0541, -0.1087,  0.1325,  0.2085, -0.3081,\n",
            "         1.0003])\n",
            "tensor([ 0.2190,  0.1203, -0.1270, -0.0541, -0.1089,  0.1329,  0.2088, -0.3095,\n",
            "         1.0003])\n",
            "tensor([ 0.2191,  0.1203, -0.1271, -0.0541, -0.1090,  0.1330,  0.2089, -0.3098,\n",
            "         1.0003])\n",
            "tensor([ 0.2192,  0.1203, -0.1271, -0.0542, -0.1090,  0.1331,  0.2089, -0.3101,\n",
            "         1.0003])\n",
            "tensor([ 0.2193,  0.1202, -0.1273, -0.0543, -0.1092,  0.1332,  0.2090, -0.3108,\n",
            "         1.0003])\n",
            "tensor([ 0.2197,  0.1202, -0.1277, -0.0544, -0.1095,  0.1334,  0.2091, -0.3123,\n",
            "         1.0003])\n",
            "tensor([ 0.2201,  0.1203, -0.1280, -0.0545, -0.1098,  0.1336,  0.2093, -0.3137,\n",
            "         1.0003])\n",
            "tensor([ 0.2204,  0.1204, -0.1283, -0.0545, -0.1101,  0.1337,  0.2095, -0.3147,\n",
            "         1.0003])\n",
            "tensor([ 0.2208,  0.1206, -0.1287, -0.0546, -0.1104,  0.1338,  0.2096, -0.3160,\n",
            "         1.0003])\n",
            "tensor([ 0.2212,  0.1208, -0.1291, -0.0547, -0.1107,  0.1340,  0.2097, -0.3174,\n",
            "         1.0004])\n",
            "tensor([ 0.2214,  0.1209, -0.1291, -0.0548, -0.1108,  0.1341,  0.2097, -0.3179,\n",
            "         1.0004])\n",
            "tensor([ 0.2218,  0.1211, -0.1294, -0.0550, -0.1110,  0.1342,  0.2097, -0.3193,\n",
            "         1.0004])\n",
            "tensor([ 0.2221,  0.1213, -0.1295, -0.0550, -0.1112,  0.1343,  0.2098, -0.3204,\n",
            "         1.0004])\n",
            "Iteration 06, end: 20669.708779, niter: 100, nfeval: 105\n",
            "Iteration 07, start: 20669.708779\n",
            "tensor([ 0.2221,  0.1213, -0.1295, -0.0550, -0.1112,  0.1343,  0.2098, -0.3204,\n",
            "         1.0004])\n",
            "tensor([ 0.2221,  0.1214, -0.1289, -0.0544, -0.1111,  0.1344,  0.2097, -0.3203,\n",
            "         1.0000])\n",
            "tensor([ 0.2221,  0.1213, -0.1295, -0.0550, -0.1112,  0.1343,  0.2098, -0.3204,\n",
            "         1.0000])\n",
            "tensor([ 0.2221,  0.1213, -0.1295, -0.0550, -0.1112,  0.1343,  0.2098, -0.3204,\n",
            "         1.0000])\n",
            "tensor([ 0.2221,  0.1213, -0.1294, -0.0550, -0.1112,  0.1343,  0.2098, -0.3203,\n",
            "         1.0000])\n",
            "tensor([ 0.2221,  0.1214, -0.1293, -0.0548, -0.1112,  0.1343,  0.2098, -0.3203,\n",
            "         1.0000])\n",
            "tensor([ 0.2221,  0.1214, -0.1292, -0.0548, -0.1111,  0.1343,  0.2098, -0.3203,\n",
            "         1.0000])\n",
            "tensor([ 0.2221,  0.1214, -0.1292, -0.0548, -0.1111,  0.1344,  0.2098, -0.3203,\n",
            "         1.0000])\n",
            "tensor([ 0.2221,  0.1215, -0.1290, -0.0547, -0.1111,  0.1344,  0.2097, -0.3203,\n",
            "         1.0000])\n",
            "tensor([ 0.2220,  0.1215, -0.1290, -0.0546, -0.1111,  0.1344,  0.2097, -0.3203,\n",
            "         1.0000])\n",
            "tensor([ 0.2220,  0.1216, -0.1288, -0.0546, -0.1110,  0.1344,  0.2097, -0.3202,\n",
            "         1.0000])\n",
            "tensor([ 0.2220,  0.1216, -0.1288, -0.0546, -0.1110,  0.1344,  0.2096, -0.3202,\n",
            "         1.0000])\n",
            "tensor([ 0.2219,  0.1218, -0.1287, -0.0547, -0.1110,  0.1345,  0.2096, -0.3201,\n",
            "         1.0000])\n",
            "tensor([ 0.2219,  0.1218, -0.1288, -0.0547, -0.1110,  0.1345,  0.2096, -0.3201,\n",
            "         1.0000])\n",
            "tensor([ 0.2219,  0.1218, -0.1288, -0.0548, -0.1110,  0.1345,  0.2096, -0.3201,\n",
            "         1.0000])\n",
            "tensor([ 0.2219,  0.1218, -0.1288, -0.0549, -0.1110,  0.1345,  0.2095, -0.3201,\n",
            "         1.0000])\n",
            "tensor([ 0.2219,  0.1219, -0.1289, -0.0549, -0.1110,  0.1345,  0.2095, -0.3200,\n",
            "         1.0000])\n",
            "tensor([ 0.2219,  0.1220, -0.1289, -0.0550, -0.1110,  0.1345,  0.2094, -0.3199,\n",
            "         1.0000])\n",
            "tensor([ 0.2218,  0.1221, -0.1289, -0.0551, -0.1109,  0.1345,  0.2094, -0.3199,\n",
            "         1.0000])\n",
            "tensor([ 0.2218,  0.1221, -0.1289, -0.0551, -0.1109,  0.1345,  0.2094, -0.3199,\n",
            "         1.0000])\n",
            "tensor([ 0.2218,  0.1222, -0.1289, -0.0551, -0.1109,  0.1345,  0.2093, -0.3198,\n",
            "         1.0000])\n",
            "tensor([ 0.2218,  0.1222, -0.1289, -0.0551, -0.1109,  0.1345,  0.2093, -0.3198,\n",
            "         1.0000])\n",
            "tensor([ 0.2218,  0.1222, -0.1290, -0.0552, -0.1110,  0.1345,  0.2092, -0.3197,\n",
            "         1.0000])\n",
            "tensor([ 0.2218,  0.1223, -0.1291, -0.0552, -0.1110,  0.1345,  0.2092, -0.3196,\n",
            "         1.0000])\n",
            "tensor([ 0.2218,  0.1223, -0.1291, -0.0553, -0.1110,  0.1344,  0.2091, -0.3196,\n",
            "         1.0000])\n",
            "tensor([ 0.2218,  0.1223, -0.1292, -0.0552, -0.1110,  0.1344,  0.2091, -0.3195,\n",
            "         1.0000])\n",
            "tensor([ 0.2218,  0.1223, -0.1292, -0.0552, -0.1110,  0.1344,  0.2091, -0.3194,\n",
            "         1.0000])\n",
            "tensor([ 0.2218,  0.1223, -0.1291, -0.0551, -0.1110,  0.1344,  0.2090, -0.3194,\n",
            "         1.0000])\n",
            "tensor([ 0.2219,  0.1223, -0.1291, -0.0550, -0.1110,  0.1344,  0.2090, -0.3194,\n",
            "         1.0000])\n",
            "tensor([ 0.2219,  0.1224, -0.1292, -0.0550, -0.1111,  0.1344,  0.2089, -0.3193,\n",
            "         1.0000])\n",
            "tensor([ 0.2219,  0.1224, -0.1293, -0.0549, -0.1111,  0.1343,  0.2088, -0.3191,\n",
            "         1.0000])\n",
            "tensor([ 0.2220,  0.1225, -0.1295, -0.0549, -0.1112,  0.1343,  0.2087, -0.3190,\n",
            "         1.0000])\n",
            "tensor([ 0.2220,  0.1225, -0.1295, -0.0549, -0.1112,  0.1343,  0.2087, -0.3190,\n",
            "         1.0000])\n",
            "tensor([ 0.2220,  0.1225, -0.1296, -0.0550, -0.1112,  0.1343,  0.2087, -0.3190,\n",
            "         1.0000])\n",
            "tensor([ 0.2221,  0.1225, -0.1298, -0.0550, -0.1112,  0.1343,  0.2087, -0.3189,\n",
            "         1.0001])\n",
            "tensor([ 0.2221,  0.1225, -0.1298, -0.0550, -0.1113,  0.1343,  0.2087, -0.3189,\n",
            "         1.0001])\n",
            "tensor([ 0.2221,  0.1226, -0.1299, -0.0550, -0.1113,  0.1343,  0.2086, -0.3188,\n",
            "         1.0001])\n",
            "tensor([ 0.2221,  0.1226, -0.1300, -0.0551, -0.1114,  0.1343,  0.2086, -0.3188,\n",
            "         1.0001])\n",
            "tensor([ 0.2222,  0.1227, -0.1302, -0.0552, -0.1115,  0.1344,  0.2085, -0.3187,\n",
            "         1.0001])\n",
            "tensor([ 0.2223,  0.1227, -0.1303, -0.0552, -0.1115,  0.1344,  0.2085, -0.3187,\n",
            "         1.0001])\n",
            "tensor([ 0.2223,  0.1226, -0.1303, -0.0552, -0.1115,  0.1344,  0.2085, -0.3187,\n",
            "         1.0001])\n",
            "tensor([ 0.2223,  0.1226, -0.1303, -0.0553, -0.1115,  0.1344,  0.2085, -0.3187,\n",
            "         1.0001])\n",
            "tensor([ 0.2224,  0.1226, -0.1303, -0.0553, -0.1116,  0.1345,  0.2085, -0.3187,\n",
            "         1.0001])\n",
            "tensor([ 0.2225,  0.1226, -0.1303, -0.0554, -0.1118,  0.1346,  0.2085, -0.3188,\n",
            "         1.0001])\n",
            "tensor([ 0.2226,  0.1226, -0.1304, -0.0554, -0.1118,  0.1346,  0.2085, -0.3187,\n",
            "         1.0001])\n",
            "tensor([ 0.2226,  0.1226, -0.1304, -0.0554, -0.1118,  0.1346,  0.2085, -0.3187,\n",
            "         1.0001])\n",
            "tensor([ 0.2227,  0.1226, -0.1304, -0.0554, -0.1118,  0.1347,  0.2085, -0.3188,\n",
            "         1.0001])\n",
            "tensor([ 0.2229,  0.1226, -0.1304, -0.0555, -0.1119,  0.1348,  0.2085, -0.3189,\n",
            "         1.0001])\n",
            "tensor([ 0.2230,  0.1226, -0.1304, -0.0555, -0.1120,  0.1349,  0.2085, -0.3190,\n",
            "         1.0001])\n",
            "tensor([ 0.2231,  0.1226, -0.1304, -0.0556, -0.1120,  0.1349,  0.2085, -0.3190,\n",
            "         1.0001])\n",
            "tensor([ 0.2232,  0.1226, -0.1304, -0.0556, -0.1120,  0.1349,  0.2086, -0.3191,\n",
            "         1.0001])\n",
            "tensor([ 0.2234,  0.1227, -0.1305, -0.0557, -0.1121,  0.1350,  0.2086, -0.3192,\n",
            "         1.0001])\n",
            "tensor([ 0.2239,  0.1228, -0.1307, -0.0558, -0.1122,  0.1352,  0.2087, -0.3196,\n",
            "         1.0001])\n",
            "tensor([ 0.2240,  0.1228, -0.1307, -0.0558, -0.1122,  0.1352,  0.2087, -0.3196,\n",
            "         1.0001])\n",
            "tensor([ 0.2240,  0.1228, -0.1308, -0.0558, -0.1122,  0.1352,  0.2087, -0.3196,\n",
            "         1.0001])\n",
            "tensor([ 0.2242,  0.1228, -0.1308, -0.0558, -0.1122,  0.1352,  0.2088, -0.3197,\n",
            "         1.0001])\n",
            "tensor([ 0.2246,  0.1229, -0.1309, -0.0558, -0.1122,  0.1352,  0.2089, -0.3200,\n",
            "         1.0002])\n",
            "tensor([ 0.2254,  0.1230, -0.1311, -0.0558, -0.1122,  0.1353,  0.2091, -0.3206,\n",
            "         1.0002])\n",
            "tensor([ 0.2257,  0.1230, -0.1311, -0.0559, -0.1122,  0.1353,  0.2091, -0.3209,\n",
            "         1.0002])\n",
            "tensor([ 0.2257,  0.1230, -0.1311, -0.0559, -0.1122,  0.1354,  0.2092, -0.3209,\n",
            "         1.0002])\n",
            "tensor([ 0.2259,  0.1230, -0.1310, -0.0559, -0.1123,  0.1354,  0.2092, -0.3211,\n",
            "         1.0002])\n",
            "tensor([ 0.2263,  0.1230, -0.1310, -0.0560, -0.1123,  0.1353,  0.2093, -0.3214,\n",
            "         1.0002])\n",
            "tensor([ 0.2273,  0.1230, -0.1308, -0.0562, -0.1123,  0.1353,  0.2095, -0.3224,\n",
            "         1.0002])\n",
            "tensor([ 0.2268,  0.1230, -0.1309, -0.0561, -0.1123,  0.1353,  0.2094, -0.3219,\n",
            "         1.0002])\n",
            "tensor([ 0.2274,  0.1230, -0.1308, -0.0562, -0.1123,  0.1353,  0.2095, -0.3224,\n",
            "         1.0002])\n",
            "tensor([ 0.2276,  0.1231, -0.1308, -0.0562, -0.1123,  0.1353,  0.2096, -0.3227,\n",
            "         1.0002])\n",
            "tensor([ 0.2280,  0.1231, -0.1309, -0.0564, -0.1123,  0.1352,  0.2097, -0.3231,\n",
            "         1.0002])\n",
            "tensor([ 0.2283,  0.1232, -0.1310, -0.0565, -0.1124,  0.1352,  0.2097, -0.3235,\n",
            "         1.0002])\n",
            "tensor([ 0.2286,  0.1232, -0.1311, -0.0565, -0.1124,  0.1352,  0.2098, -0.3238,\n",
            "         1.0002])\n",
            "tensor([ 0.2293,  0.1233, -0.1314, -0.0567, -0.1126,  0.1351,  0.2099, -0.3247,\n",
            "         1.0003])\n",
            "tensor([ 0.2294,  0.1233, -0.1314, -0.0567, -0.1126,  0.1351,  0.2099, -0.3249,\n",
            "         1.0003])\n",
            "tensor([ 0.2295,  0.1233, -0.1314, -0.0566, -0.1126,  0.1352,  0.2099, -0.3250,\n",
            "         1.0003])\n",
            "tensor([ 0.2300,  0.1233, -0.1317, -0.0566, -0.1128,  0.1352,  0.2100, -0.3257,\n",
            "         1.0003])\n",
            "tensor([ 0.2306,  0.1234, -0.1320, -0.0565, -0.1130,  0.1352,  0.2101, -0.3266,\n",
            "         1.0003])\n",
            "tensor([ 0.2303,  0.1234, -0.1318, -0.0566, -0.1129,  0.1352,  0.2100, -0.3261,\n",
            "         1.0003])\n",
            "tensor([ 0.2305,  0.1234, -0.1319, -0.0565, -0.1130,  0.1352,  0.2101, -0.3264,\n",
            "         1.0003])\n",
            "tensor([ 0.2310,  0.1234, -0.1322, -0.0566, -0.1132,  0.1353,  0.2101, -0.3272,\n",
            "         1.0003])\n",
            "tensor([ 0.2314,  0.1234, -0.1324, -0.0566, -0.1134,  0.1353,  0.2101, -0.3279,\n",
            "         1.0003])\n",
            "tensor([ 0.2322,  0.1234, -0.1327, -0.0566, -0.1138,  0.1355,  0.2102, -0.3292,\n",
            "         1.0003])\n",
            "tensor([ 0.2325,  0.1234, -0.1328, -0.0567, -0.1139,  0.1356,  0.2102, -0.3297,\n",
            "         1.0003])\n",
            "tensor([ 0.2327,  0.1234, -0.1327, -0.0568, -0.1140,  0.1357,  0.2102, -0.3300,\n",
            "         1.0003])\n",
            "tensor([ 0.2330,  0.1234, -0.1328, -0.0569, -0.1141,  0.1359,  0.2102, -0.3305,\n",
            "         1.0003])\n",
            "tensor([ 0.2336,  0.1234, -0.1330, -0.0572, -0.1143,  0.1360,  0.2102, -0.3314,\n",
            "         1.0003])\n",
            "tensor([ 0.2340,  0.1235, -0.1332, -0.0573, -0.1145,  0.1361,  0.2102, -0.3321,\n",
            "         1.0004])\n",
            "tensor([ 0.2347,  0.1236, -0.1336, -0.0575, -0.1147,  0.1363,  0.2102, -0.3332,\n",
            "         1.0004])\n",
            "tensor([ 0.2352,  0.1237, -0.1338, -0.0577, -0.1148,  0.1364,  0.2103, -0.3340,\n",
            "         1.0004])\n",
            "tensor([ 0.2358,  0.1238, -0.1340, -0.0579, -0.1149,  0.1365,  0.2102, -0.3350,\n",
            "         1.0004])\n",
            "tensor([ 0.2364,  0.1239, -0.1341, -0.0582, -0.1150,  0.1367,  0.2102, -0.3361,\n",
            "         1.0004])\n",
            "tensor([ 0.2366,  0.1239, -0.1340, -0.0582, -0.1150,  0.1368,  0.2102, -0.3363,\n",
            "         1.0004])\n",
            "tensor([ 0.2367,  0.1239, -0.1340, -0.0582, -0.1149,  0.1368,  0.2102, -0.3365,\n",
            "         1.0004])\n",
            "tensor([ 0.2371,  0.1240, -0.1340, -0.0583, -0.1150,  0.1369,  0.2102, -0.3374,\n",
            "         1.0004])\n",
            "tensor([ 0.2383,  0.1242, -0.1341, -0.0584, -0.1151,  0.1371,  0.2102, -0.3392,\n",
            "         1.0004])\n",
            "tensor([ 0.2385,  0.1242, -0.1342, -0.0584, -0.1152,  0.1371,  0.2103, -0.3396,\n",
            "         1.0005])\n",
            "tensor([ 0.2388,  0.1243, -0.1343, -0.0585, -0.1152,  0.1372,  0.2103, -0.3400,\n",
            "         1.0005])\n",
            "tensor([ 0.2393,  0.1243, -0.1344, -0.0586, -0.1153,  0.1372,  0.2103, -0.3408,\n",
            "         1.0005])\n",
            "tensor([ 0.2399,  0.1244, -0.1345, -0.0587, -0.1154,  0.1373,  0.2103, -0.3418,\n",
            "         1.0005])\n",
            "tensor([ 0.2413,  0.1245, -0.1347, -0.0590, -0.1157,  0.1375,  0.2104, -0.3439,\n",
            "         1.0005])\n",
            "tensor([ 0.2419,  0.1246, -0.1347, -0.0592, -0.1158,  0.1375,  0.2105, -0.3448,\n",
            "         1.0005])\n",
            "tensor([ 0.2417,  0.1246, -0.1347, -0.0592, -0.1158,  0.1375,  0.2105, -0.3447,\n",
            "         1.0005])\n",
            "tensor([ 0.2418,  0.1246, -0.1347, -0.0594, -0.1159,  0.1375,  0.2106, -0.3449,\n",
            "         1.0005])\n",
            "tensor([ 0.2423,  0.1246, -0.1349, -0.0596, -0.1162,  0.1375,  0.2107, -0.3457,\n",
            "         1.0005])\n",
            "tensor([ 0.2429,  0.1247, -0.1352, -0.0598, -0.1164,  0.1376,  0.2108, -0.3466,\n",
            "         1.0005])\n",
            "tensor([ 0.2437,  0.1248, -0.1355, -0.0600, -0.1168,  0.1377,  0.2110, -0.3478,\n",
            "         1.0006])\n",
            "tensor([ 0.2446,  0.1249, -0.1357, -0.0602, -0.1171,  0.1378,  0.2112, -0.3491,\n",
            "         1.0006])\n",
            "Iteration 07, end: 20670.866956, niter: 100, nfeval: 104\n",
            "Iteration 08, start: 20670.866956\n",
            "tensor([ 0.2446,  0.1249, -0.1357, -0.0602, -0.1171,  0.1378,  0.2112, -0.3491,\n",
            "         1.0006])\n",
            "tensor([ 0.2446,  0.1249, -0.1357, -0.0602, -0.1171,  0.1378,  0.2112, -0.3491,\n",
            "         1.0000])\n",
            "tensor([ 0.2446,  0.1249, -0.1356, -0.0601, -0.1171,  0.1378,  0.2112, -0.3491,\n",
            "         1.0000])\n",
            "tensor([ 0.2446,  0.1249, -0.1355, -0.0600, -0.1171,  0.1379,  0.2112, -0.3490,\n",
            "         1.0000])\n",
            "tensor([ 0.2446,  0.1249, -0.1355, -0.0600, -0.1171,  0.1379,  0.2113, -0.3489,\n",
            "         1.0000])\n",
            "tensor([ 0.2446,  0.1249, -0.1355, -0.0599, -0.1172,  0.1379,  0.2113, -0.3489,\n",
            "         1.0000])\n",
            "tensor([ 0.2445,  0.1249, -0.1353, -0.0598, -0.1172,  0.1380,  0.2114, -0.3487,\n",
            "         1.0000])\n",
            "tensor([ 0.2445,  0.1249, -0.1352, -0.0598, -0.1172,  0.1381,  0.2114, -0.3486,\n",
            "         1.0000])\n",
            "tensor([ 0.2445,  0.1249, -0.1353, -0.0598, -0.1172,  0.1381,  0.2114, -0.3486,\n",
            "         1.0000])\n",
            "tensor([ 0.2445,  0.1249, -0.1353, -0.0598, -0.1172,  0.1381,  0.2114, -0.3486,\n",
            "         1.0000])\n",
            "tensor([ 0.2445,  0.1250, -0.1352, -0.0598, -0.1172,  0.1381,  0.2114, -0.3486,\n",
            "         1.0000])\n",
            "tensor([ 0.2444,  0.1250, -0.1352, -0.0598, -0.1172,  0.1381,  0.2115, -0.3484,\n",
            "         1.0000])\n",
            "tensor([ 0.2443,  0.1251, -0.1352, -0.0598, -0.1173,  0.1382,  0.2116, -0.3482,\n",
            "         1.0000])\n",
            "tensor([ 0.2441,  0.1252, -0.1351, -0.0598, -0.1174,  0.1384,  0.2118, -0.3478,\n",
            "         1.0000])\n",
            "tensor([ 0.2441,  0.1252, -0.1351, -0.0599, -0.1175,  0.1384,  0.2119, -0.3476,\n",
            "         1.0000])\n",
            "tensor([ 0.2441,  0.1252, -0.1352, -0.0599, -0.1175,  0.1384,  0.2119, -0.3476,\n",
            "         1.0000])\n",
            "tensor([ 0.2440,  0.1252, -0.1352, -0.0599, -0.1175,  0.1385,  0.2119, -0.3475,\n",
            "         1.0000])\n",
            "tensor([ 0.2439,  0.1252, -0.1353, -0.0599, -0.1176,  0.1385,  0.2120, -0.3473,\n",
            "         1.0000])\n",
            "tensor([ 0.2438,  0.1252, -0.1354, -0.0600, -0.1177,  0.1386,  0.2121, -0.3470,\n",
            "         1.0000])\n",
            "tensor([ 0.2436,  0.1252, -0.1355, -0.0600, -0.1177,  0.1386,  0.2122, -0.3467,\n",
            "         1.0000])\n",
            "tensor([ 0.2435,  0.1252, -0.1356, -0.0600, -0.1178,  0.1386,  0.2123, -0.3465,\n",
            "         1.0000])\n",
            "tensor([ 0.2435,  0.1252, -0.1357, -0.0599, -0.1178,  0.1386,  0.2123, -0.3463,\n",
            "         1.0000])\n",
            "tensor([ 0.2434,  0.1252, -0.1357, -0.0599, -0.1179,  0.1386,  0.2124, -0.3462,\n",
            "         1.0000])\n",
            "tensor([ 0.2433,  0.1252, -0.1358, -0.0598, -0.1179,  0.1386,  0.2124, -0.3460,\n",
            "         1.0000])\n",
            "tensor([ 0.2432,  0.1252, -0.1358, -0.0598, -0.1179,  0.1386,  0.2125, -0.3458,\n",
            "         1.0000])\n",
            "tensor([ 0.2431,  0.1252, -0.1359, -0.0597, -0.1179,  0.1386,  0.2126, -0.3455,\n",
            "         1.0000])\n",
            "tensor([ 0.2429,  0.1252, -0.1359, -0.0597, -0.1180,  0.1386,  0.2127, -0.3451,\n",
            "         1.0000])\n",
            "tensor([ 0.2428,  0.1252, -0.1360, -0.0596, -0.1180,  0.1386,  0.2127, -0.3450,\n",
            "         1.0000])\n",
            "tensor([ 0.2428,  0.1252, -0.1359, -0.0596, -0.1179,  0.1385,  0.2128, -0.3449,\n",
            "         1.0000])\n",
            "tensor([ 0.2427,  0.1253, -0.1359, -0.0596, -0.1179,  0.1385,  0.2128, -0.3448,\n",
            "         1.0000])\n",
            "tensor([ 0.2426,  0.1253, -0.1359, -0.0596, -0.1179,  0.1385,  0.2128, -0.3445,\n",
            "         1.0000])\n",
            "tensor([ 0.2425,  0.1253, -0.1359, -0.0595, -0.1178,  0.1384,  0.2129, -0.3442,\n",
            "         1.0000])\n",
            "tensor([ 0.2424,  0.1254, -0.1359, -0.0595, -0.1178,  0.1384,  0.2129, -0.3440,\n",
            "         1.0001])\n",
            "tensor([ 0.2423,  0.1254, -0.1360, -0.0595, -0.1178,  0.1384,  0.2130, -0.3437,\n",
            "         1.0001])\n",
            "tensor([ 0.2422,  0.1255, -0.1359, -0.0595, -0.1177,  0.1383,  0.2130, -0.3433,\n",
            "         1.0001])\n",
            "tensor([ 0.2421,  0.1256, -0.1359, -0.0596, -0.1177,  0.1383,  0.2130, -0.3430,\n",
            "         1.0001])\n",
            "tensor([ 0.2420,  0.1256, -0.1359, -0.0596, -0.1176,  0.1383,  0.2130, -0.3429,\n",
            "         1.0001])\n",
            "tensor([ 0.2420,  0.1257, -0.1359, -0.0596, -0.1176,  0.1383,  0.2130, -0.3427,\n",
            "         1.0001])\n",
            "tensor([ 0.2419,  0.1257, -0.1359, -0.0597, -0.1176,  0.1383,  0.2130, -0.3425,\n",
            "         1.0001])\n",
            "tensor([ 0.2419,  0.1258, -0.1358, -0.0597, -0.1176,  0.1383,  0.2130, -0.3422,\n",
            "         1.0001])\n",
            "tensor([ 0.2418,  0.1258, -0.1358, -0.0598, -0.1176,  0.1383,  0.2130, -0.3419,\n",
            "         1.0001])\n",
            "tensor([ 0.2417,  0.1258, -0.1358, -0.0599, -0.1176,  0.1383,  0.2130, -0.3417,\n",
            "         1.0001])\n",
            "tensor([ 0.2417,  0.1259, -0.1357, -0.0600, -0.1176,  0.1383,  0.2130, -0.3415,\n",
            "         1.0001])\n",
            "tensor([ 0.2417,  0.1259, -0.1356, -0.0601, -0.1177,  0.1384,  0.2129, -0.3412,\n",
            "         1.0001])\n",
            "tensor([ 0.2417,  0.1259, -0.1356, -0.0602, -0.1178,  0.1385,  0.2129, -0.3411,\n",
            "         1.0001])\n",
            "tensor([ 0.2417,  0.1259, -0.1356, -0.0602, -0.1178,  0.1385,  0.2129, -0.3410,\n",
            "         1.0001])\n",
            "tensor([ 0.2417,  0.1259, -0.1357, -0.0602, -0.1179,  0.1386,  0.2128, -0.3408,\n",
            "         1.0001])\n",
            "tensor([ 0.2417,  0.1259, -0.1357, -0.0603, -0.1180,  0.1387,  0.2128, -0.3405,\n",
            "         1.0001])\n",
            "tensor([ 0.2417,  0.1259, -0.1357, -0.0603, -0.1180,  0.1387,  0.2128, -0.3405,\n",
            "         1.0001])\n",
            "tensor([ 0.2417,  0.1259, -0.1357, -0.0603, -0.1181,  0.1387,  0.2128, -0.3404,\n",
            "         1.0001])\n",
            "tensor([ 0.2417,  0.1260, -0.1358, -0.0603, -0.1181,  0.1388,  0.2127, -0.3402,\n",
            "         1.0001])\n",
            "tensor([ 0.2417,  0.1260, -0.1359, -0.0603, -0.1182,  0.1389,  0.2127, -0.3400,\n",
            "         1.0001])\n",
            "tensor([ 0.2417,  0.1261, -0.1360, -0.0602, -0.1184,  0.1390,  0.2126, -0.3397,\n",
            "         1.0001])\n",
            "tensor([ 0.2418,  0.1262, -0.1361, -0.0601, -0.1185,  0.1392,  0.2125, -0.3395,\n",
            "         1.0002])\n",
            "tensor([ 0.2418,  0.1262, -0.1361, -0.0601, -0.1185,  0.1391,  0.2125, -0.3396,\n",
            "         1.0002])\n",
            "tensor([ 0.2418,  0.1262, -0.1360, -0.0601, -0.1184,  0.1391,  0.2126, -0.3396,\n",
            "         1.0002])\n",
            "tensor([ 0.2418,  0.1262, -0.1360, -0.0601, -0.1185,  0.1392,  0.2125, -0.3396,\n",
            "         1.0002])\n",
            "tensor([ 0.2418,  0.1262, -0.1360, -0.0602, -0.1185,  0.1392,  0.2125, -0.3396,\n",
            "         1.0002])\n",
            "tensor([ 0.2419,  0.1262, -0.1360, -0.0602, -0.1186,  0.1393,  0.2125, -0.3394,\n",
            "         1.0002])\n",
            "tensor([ 0.2419,  0.1262, -0.1360, -0.0603, -0.1186,  0.1393,  0.2125, -0.3393,\n",
            "         1.0002])\n",
            "tensor([ 0.2420,  0.1262, -0.1360, -0.0604, -0.1186,  0.1394,  0.2124, -0.3392,\n",
            "         1.0002])\n",
            "tensor([ 0.2421,  0.1262, -0.1359, -0.0606, -0.1186,  0.1394,  0.2125, -0.3392,\n",
            "         1.0002])\n",
            "tensor([ 0.2421,  0.1262, -0.1359, -0.0607, -0.1186,  0.1394,  0.2125, -0.3393,\n",
            "         1.0002])\n",
            "tensor([ 0.2422,  0.1262, -0.1358, -0.0608, -0.1186,  0.1394,  0.2125, -0.3395,\n",
            "         1.0002])\n",
            "tensor([ 0.2423,  0.1262, -0.1358, -0.0610, -0.1186,  0.1394,  0.2126, -0.3396,\n",
            "         1.0002])\n",
            "tensor([ 0.2424,  0.1263, -0.1358, -0.0611, -0.1186,  0.1394,  0.2126, -0.3396,\n",
            "         1.0002])\n",
            "tensor([ 0.2426,  0.1264, -0.1358, -0.0612, -0.1187,  0.1395,  0.2126, -0.3396,\n",
            "         1.0002])\n",
            "tensor([ 0.2427,  0.1264, -0.1359, -0.0612, -0.1187,  0.1395,  0.2126, -0.3397,\n",
            "         1.0002])\n",
            "tensor([ 0.2428,  0.1265, -0.1359, -0.0612, -0.1187,  0.1395,  0.2127, -0.3398,\n",
            "         1.0002])\n",
            "tensor([ 0.2430,  0.1266, -0.1361, -0.0611, -0.1188,  0.1395,  0.2128, -0.3400,\n",
            "         1.0003])\n",
            "tensor([ 0.2432,  0.1266, -0.1361, -0.0611, -0.1188,  0.1395,  0.2129, -0.3402,\n",
            "         1.0003])\n",
            "tensor([ 0.2432,  0.1266, -0.1361, -0.0610, -0.1188,  0.1395,  0.2129, -0.3403,\n",
            "         1.0003])\n",
            "tensor([ 0.2435,  0.1267, -0.1362, -0.0610, -0.1189,  0.1395,  0.2130, -0.3405,\n",
            "         1.0003])\n",
            "tensor([ 0.2437,  0.1267, -0.1362, -0.0610, -0.1190,  0.1396,  0.2131, -0.3407,\n",
            "         1.0003])\n",
            "tensor([ 0.2437,  0.1267, -0.1363, -0.0610, -0.1190,  0.1396,  0.2131, -0.3407,\n",
            "         1.0003])\n",
            "tensor([ 0.2439,  0.1267, -0.1363, -0.0611, -0.1191,  0.1396,  0.2132, -0.3409,\n",
            "         1.0003])\n",
            "tensor([ 0.2440,  0.1267, -0.1363, -0.0611, -0.1191,  0.1397,  0.2132, -0.3410,\n",
            "         1.0003])\n",
            "tensor([ 0.2442,  0.1268, -0.1362, -0.0614, -0.1192,  0.1397,  0.2134, -0.3413,\n",
            "         1.0003])\n",
            "tensor([ 0.2445,  0.1268, -0.1362, -0.0618, -0.1194,  0.1397,  0.2136, -0.3420,\n",
            "         1.0003])\n",
            "tensor([ 0.2443,  0.1268, -0.1362, -0.0615, -0.1193,  0.1397,  0.2135, -0.3416,\n",
            "         1.0003])\n",
            "tensor([ 0.2444,  0.1268, -0.1362, -0.0617, -0.1193,  0.1397,  0.2135, -0.3417,\n",
            "         1.0003])\n",
            "tensor([ 0.2444,  0.1268, -0.1361, -0.0618, -0.1193,  0.1397,  0.2136, -0.3419,\n",
            "         1.0003])\n",
            "tensor([ 0.2444,  0.1268, -0.1361, -0.0620, -0.1194,  0.1397,  0.2136, -0.3421,\n",
            "         1.0003])\n",
            "tensor([ 0.2445,  0.1269, -0.1361, -0.0622, -0.1194,  0.1397,  0.2137, -0.3424,\n",
            "         1.0003])\n",
            "tensor([ 0.2446,  0.1269, -0.1361, -0.0622, -0.1195,  0.1397,  0.2137, -0.3426,\n",
            "         1.0004])\n",
            "tensor([ 0.2447,  0.1269, -0.1361, -0.0623, -0.1195,  0.1398,  0.2138, -0.3428,\n",
            "         1.0004])\n",
            "tensor([ 0.2448,  0.1269, -0.1361, -0.0623, -0.1196,  0.1398,  0.2138, -0.3430,\n",
            "         1.0004])\n",
            "tensor([ 0.2449,  0.1270, -0.1361, -0.0624, -0.1196,  0.1398,  0.2139, -0.3432,\n",
            "         1.0004])\n",
            "tensor([ 0.2450,  0.1270, -0.1360, -0.0624, -0.1197,  0.1398,  0.2139, -0.3436,\n",
            "         1.0004])\n",
            "tensor([ 0.2451,  0.1270, -0.1360, -0.0625, -0.1198,  0.1398,  0.2140, -0.3439,\n",
            "         1.0004])\n",
            "tensor([ 0.2451,  0.1270, -0.1360, -0.0625, -0.1198,  0.1397,  0.2140, -0.3440,\n",
            "         1.0004])\n",
            "tensor([ 0.2452,  0.1269, -0.1360, -0.0625, -0.1199,  0.1397,  0.2140, -0.3443,\n",
            "         1.0004])\n",
            "tensor([ 0.2455,  0.1269, -0.1360, -0.0626, -0.1200,  0.1398,  0.2140, -0.3449,\n",
            "         1.0004])\n",
            "tensor([ 0.2454,  0.1269, -0.1360, -0.0626, -0.1200,  0.1397,  0.2140, -0.3449,\n",
            "         1.0004])\n",
            "tensor([ 0.2455,  0.1269, -0.1360, -0.0627, -0.1200,  0.1397,  0.2140, -0.3450,\n",
            "         1.0004])\n",
            "tensor([ 0.2456,  0.1269, -0.1360, -0.0628, -0.1201,  0.1398,  0.2140, -0.3452,\n",
            "         1.0005])\n",
            "tensor([ 0.2457,  0.1269, -0.1361, -0.0629, -0.1202,  0.1398,  0.2140, -0.3455,\n",
            "         1.0005])\n",
            "tensor([ 0.2460,  0.1268, -0.1362, -0.0633, -0.1205,  0.1399,  0.2140, -0.3463,\n",
            "         1.0005])\n",
            "tensor([ 0.2461,  0.1268, -0.1362, -0.0634, -0.1206,  0.1400,  0.2140, -0.3466,\n",
            "         1.0005])\n",
            "tensor([ 0.2461,  0.1268, -0.1363, -0.0635, -0.1207,  0.1400,  0.2139, -0.3468,\n",
            "         1.0005])\n",
            "tensor([ 0.2463,  0.1268, -0.1363, -0.0637, -0.1208,  0.1401,  0.2138, -0.3473,\n",
            "         1.0005])\n",
            "Iteration 08, end: 20671.538882, niter: 100, nfeval: 103\n",
            "Iteration 09, start: 20671.538882\n",
            "tensor([ 0.2463,  0.1268, -0.1363, -0.0637, -0.1208,  0.1401,  0.2138, -0.3473,\n",
            "         1.0005])\n",
            "tensor([ 0.2463,  0.1269, -0.1362, -0.0637, -0.1208,  0.1401,  0.2138, -0.3473,\n",
            "         1.0000])\n",
            "tensor([ 0.2463,  0.1269, -0.1362, -0.0637, -0.1208,  0.1401,  0.2138, -0.3472,\n",
            "         1.0000])\n",
            "tensor([ 0.2462,  0.1270, -0.1360, -0.0637, -0.1208,  0.1401,  0.2138, -0.3472,\n",
            "         1.0000])\n",
            "tensor([ 0.2462,  0.1270, -0.1360, -0.0637, -0.1208,  0.1402,  0.2138, -0.3472,\n",
            "         1.0000])\n",
            "tensor([ 0.2462,  0.1270, -0.1360, -0.0637, -0.1208,  0.1401,  0.2138, -0.3472,\n",
            "         1.0000])\n",
            "tensor([ 0.2462,  0.1270, -0.1360, -0.0638, -0.1208,  0.1402,  0.2138, -0.3472,\n",
            "         1.0000])\n",
            "tensor([ 0.2462,  0.1270, -0.1360, -0.0638, -0.1208,  0.1402,  0.2138, -0.3471,\n",
            "         1.0000])\n",
            "tensor([ 0.2462,  0.1270, -0.1360, -0.0638, -0.1208,  0.1402,  0.2138, -0.3471,\n",
            "         1.0000])\n",
            "tensor([ 0.2462,  0.1271, -0.1358, -0.0638, -0.1208,  0.1402,  0.2137, -0.3469,\n",
            "         1.0000])\n",
            "tensor([ 0.2462,  0.1271, -0.1359, -0.0638, -0.1208,  0.1402,  0.2137, -0.3470,\n",
            "         1.0000])\n",
            "tensor([ 0.2462,  0.1271, -0.1359, -0.0638, -0.1208,  0.1402,  0.2137, -0.3470,\n",
            "         1.0000])\n",
            "tensor([ 0.2462,  0.1271, -0.1359, -0.0639, -0.1208,  0.1402,  0.2137, -0.3469,\n",
            "         1.0000])\n",
            "tensor([ 0.2462,  0.1271, -0.1359, -0.0639, -0.1208,  0.1402,  0.2137, -0.3469,\n",
            "         1.0000])\n",
            "tensor([ 0.2462,  0.1272, -0.1359, -0.0639, -0.1208,  0.1403,  0.2136, -0.3468,\n",
            "         1.0000])\n",
            "tensor([ 0.2462,  0.1272, -0.1360, -0.0640, -0.1208,  0.1403,  0.2136, -0.3466,\n",
            "         1.0000])\n",
            "tensor([ 0.2461,  0.1273, -0.1361, -0.0642, -0.1207,  0.1403,  0.2135, -0.3463,\n",
            "         1.0000])\n",
            "tensor([ 0.2462,  0.1272, -0.1360, -0.0641, -0.1207,  0.1403,  0.2135, -0.3465,\n",
            "         1.0000])\n",
            "tensor([ 0.2462,  0.1272, -0.1360, -0.0641, -0.1207,  0.1403,  0.2135, -0.3465,\n",
            "         1.0000])\n",
            "tensor([ 0.2462,  0.1273, -0.1361, -0.0641, -0.1207,  0.1403,  0.2135, -0.3464,\n",
            "         1.0000])\n",
            "tensor([ 0.2462,  0.1273, -0.1361, -0.0641, -0.1207,  0.1403,  0.2135, -0.3464,\n",
            "         1.0000])\n",
            "tensor([ 0.2462,  0.1273, -0.1361, -0.0642, -0.1207,  0.1403,  0.2134, -0.3462,\n",
            "         1.0000])\n",
            "tensor([ 0.2462,  0.1274, -0.1362, -0.0642, -0.1207,  0.1403,  0.2134, -0.3460,\n",
            "         1.0000])\n",
            "tensor([ 0.2462,  0.1274, -0.1362, -0.0642, -0.1207,  0.1403,  0.2134, -0.3460,\n",
            "         1.0000])\n",
            "tensor([ 0.2462,  0.1274, -0.1361, -0.0642, -0.1207,  0.1403,  0.2134, -0.3460,\n",
            "         1.0000])\n",
            "tensor([ 0.2462,  0.1274, -0.1361, -0.0641, -0.1207,  0.1403,  0.2133, -0.3459,\n",
            "         1.0000])\n",
            "tensor([ 0.2462,  0.1275, -0.1362, -0.0641, -0.1207,  0.1403,  0.2133, -0.3458,\n",
            "         1.0000])\n",
            "tensor([ 0.2462,  0.1275, -0.1362, -0.0640, -0.1207,  0.1403,  0.2132, -0.3456,\n",
            "         1.0000])\n",
            "tensor([ 0.2462,  0.1275, -0.1362, -0.0640, -0.1207,  0.1402,  0.2132, -0.3455,\n",
            "         1.0000])\n",
            "tensor([ 0.2462,  0.1275, -0.1363, -0.0640, -0.1206,  0.1402,  0.2132, -0.3454,\n",
            "         1.0000])\n",
            "tensor([ 0.2462,  0.1276, -0.1363, -0.0639, -0.1206,  0.1402,  0.2131, -0.3453,\n",
            "         1.0000])\n",
            "tensor([ 0.2463,  0.1276, -0.1363, -0.0639, -0.1206,  0.1402,  0.2131, -0.3451,\n",
            "         1.0000])\n",
            "tensor([ 0.2463,  0.1276, -0.1363, -0.0638, -0.1206,  0.1402,  0.2130, -0.3450,\n",
            "         1.0000])\n",
            "tensor([ 0.2463,  0.1276, -0.1363, -0.0638, -0.1206,  0.1401,  0.2130, -0.3448,\n",
            "         1.0000])\n",
            "tensor([ 0.2463,  0.1276, -0.1362, -0.0639, -0.1206,  0.1401,  0.2130, -0.3448,\n",
            "         1.0000])\n",
            "tensor([ 0.2462,  0.1276, -0.1362, -0.0639, -0.1206,  0.1401,  0.2130, -0.3447,\n",
            "         1.0000])\n",
            "tensor([ 0.2462,  0.1277, -0.1362, -0.0640, -0.1206,  0.1401,  0.2130, -0.3446,\n",
            "         1.0001])\n",
            "tensor([ 0.2462,  0.1277, -0.1362, -0.0640, -0.1206,  0.1401,  0.2129, -0.3444,\n",
            "         1.0001])\n",
            "tensor([ 0.2462,  0.1277, -0.1362, -0.0640, -0.1206,  0.1401,  0.2129, -0.3443,\n",
            "         1.0001])\n",
            "tensor([ 0.2462,  0.1277, -0.1362, -0.0641, -0.1206,  0.1400,  0.2128, -0.3441,\n",
            "         1.0001])\n",
            "tensor([ 0.2462,  0.1277, -0.1362, -0.0641, -0.1206,  0.1400,  0.2128, -0.3440,\n",
            "         1.0001])\n",
            "tensor([ 0.2461,  0.1278, -0.1361, -0.0643, -0.1206,  0.1400,  0.2127, -0.3438,\n",
            "         1.0001])\n",
            "tensor([ 0.2461,  0.1278, -0.1361, -0.0644, -0.1206,  0.1400,  0.2127, -0.3436,\n",
            "         1.0001])\n",
            "tensor([ 0.2461,  0.1278, -0.1361, -0.0644, -0.1206,  0.1400,  0.2127, -0.3436,\n",
            "         1.0001])\n",
            "tensor([ 0.2461,  0.1277, -0.1361, -0.0644, -0.1207,  0.1400,  0.2127, -0.3436,\n",
            "         1.0001])\n",
            "tensor([ 0.2461,  0.1277, -0.1362, -0.0645, -0.1207,  0.1400,  0.2127, -0.3435,\n",
            "         1.0001])\n",
            "tensor([ 0.2461,  0.1277, -0.1362, -0.0645, -0.1207,  0.1400,  0.2126, -0.3432,\n",
            "         1.0001])\n",
            "tensor([ 0.2461,  0.1277, -0.1362, -0.0646, -0.1207,  0.1400,  0.2126, -0.3431,\n",
            "         1.0001])\n",
            "tensor([ 0.2461,  0.1277, -0.1362, -0.0646, -0.1207,  0.1400,  0.2126, -0.3431,\n",
            "         1.0001])\n",
            "tensor([ 0.2461,  0.1277, -0.1362, -0.0646, -0.1207,  0.1400,  0.2126, -0.3430,\n",
            "         1.0001])\n",
            "tensor([ 0.2461,  0.1277, -0.1362, -0.0647, -0.1207,  0.1400,  0.2126, -0.3429,\n",
            "         1.0001])\n",
            "tensor([ 0.2462,  0.1277, -0.1362, -0.0647, -0.1208,  0.1400,  0.2125, -0.3427,\n",
            "         1.0001])\n",
            "tensor([ 0.2464,  0.1276, -0.1362, -0.0648, -0.1208,  0.1400,  0.2125, -0.3424,\n",
            "         1.0001])\n",
            "tensor([ 0.2465,  0.1276, -0.1363, -0.0648, -0.1209,  0.1400,  0.2125, -0.3422,\n",
            "         1.0002])\n",
            "tensor([ 0.2465,  0.1276, -0.1362, -0.0648, -0.1209,  0.1400,  0.2125, -0.3423,\n",
            "         1.0002])\n",
            "tensor([ 0.2465,  0.1276, -0.1362, -0.0648, -0.1208,  0.1400,  0.2125, -0.3423,\n",
            "         1.0002])\n",
            "tensor([ 0.2466,  0.1276, -0.1363, -0.0648, -0.1208,  0.1400,  0.2125, -0.3423,\n",
            "         1.0002])\n",
            "tensor([ 0.2468,  0.1276, -0.1363, -0.0649, -0.1208,  0.1400,  0.2125, -0.3423,\n",
            "         1.0002])\n",
            "tensor([ 0.2469,  0.1276, -0.1363, -0.0649, -0.1208,  0.1400,  0.2125, -0.3422,\n",
            "         1.0002])\n",
            "tensor([ 0.2469,  0.1276, -0.1363, -0.0650, -0.1208,  0.1400,  0.2125, -0.3422,\n",
            "         1.0002])\n",
            "tensor([ 0.2470,  0.1276, -0.1363, -0.0650, -0.1208,  0.1400,  0.2125, -0.3422,\n",
            "         1.0002])\n",
            "tensor([ 0.2472,  0.1276, -0.1362, -0.0652, -0.1208,  0.1400,  0.2126, -0.3423,\n",
            "         1.0002])\n",
            "tensor([ 0.2472,  0.1276, -0.1362, -0.0653, -0.1207,  0.1399,  0.2126, -0.3423,\n",
            "         1.0002])\n",
            "tensor([ 0.2473,  0.1276, -0.1361, -0.0654, -0.1207,  0.1399,  0.2126, -0.3424,\n",
            "         1.0002])\n",
            "tensor([ 0.2474,  0.1276, -0.1361, -0.0655, -0.1207,  0.1399,  0.2126, -0.3425,\n",
            "         1.0002])\n",
            "tensor([ 0.2476,  0.1275, -0.1360, -0.0657, -0.1206,  0.1398,  0.2126, -0.3426,\n",
            "         1.0002])\n",
            "tensor([ 0.2477,  0.1275, -0.1360, -0.0658, -0.1206,  0.1398,  0.2126, -0.3427,\n",
            "         1.0002])\n",
            "tensor([ 0.2478,  0.1275, -0.1360, -0.0658, -0.1206,  0.1397,  0.2126, -0.3427,\n",
            "         1.0002])\n",
            "tensor([ 0.2479,  0.1275, -0.1359, -0.0659, -0.1206,  0.1397,  0.2126, -0.3428,\n",
            "         1.0003])\n",
            "tensor([ 0.2481,  0.1275, -0.1359, -0.0660, -0.1206,  0.1397,  0.2126, -0.3431,\n",
            "         1.0003])\n",
            "tensor([ 0.2486,  0.1274, -0.1359, -0.0661, -0.1206,  0.1396,  0.2126, -0.3436,\n",
            "         1.0003])\n",
            "tensor([ 0.2483,  0.1274, -0.1359, -0.0660, -0.1206,  0.1396,  0.2126, -0.3433,\n",
            "         1.0003])\n",
            "tensor([ 0.2485,  0.1274, -0.1359, -0.0660, -0.1206,  0.1396,  0.2126, -0.3436,\n",
            "         1.0003])\n",
            "tensor([ 0.2486,  0.1274, -0.1359, -0.0660, -0.1207,  0.1396,  0.2125, -0.3437,\n",
            "         1.0003])\n",
            "tensor([ 0.2488,  0.1274, -0.1359, -0.0660, -0.1208,  0.1396,  0.2125, -0.3441,\n",
            "         1.0003])\n",
            "tensor([ 0.2489,  0.1274, -0.1359, -0.0660, -0.1209,  0.1396,  0.2125, -0.3443,\n",
            "         1.0003])\n",
            "tensor([ 0.2490,  0.1274, -0.1359, -0.0660, -0.1209,  0.1397,  0.2125, -0.3443,\n",
            "         1.0003])\n",
            "tensor([ 0.2492,  0.1274, -0.1360, -0.0661, -0.1211,  0.1397,  0.2124, -0.3446,\n",
            "         1.0003])\n",
            "tensor([ 0.2494,  0.1273, -0.1360, -0.0663, -0.1212,  0.1397,  0.2124, -0.3451,\n",
            "         1.0004])\n",
            "tensor([ 0.2495,  0.1273, -0.1360, -0.0663, -0.1212,  0.1397,  0.2124, -0.3452,\n",
            "         1.0004])\n",
            "tensor([ 0.2496,  0.1273, -0.1361, -0.0664, -0.1213,  0.1397,  0.2124, -0.3454,\n",
            "         1.0004])\n",
            "tensor([ 0.2498,  0.1273, -0.1361, -0.0665, -0.1214,  0.1397,  0.2123, -0.3456,\n",
            "         1.0004])\n",
            "tensor([ 0.2501,  0.1272, -0.1362, -0.0668, -0.1215,  0.1398,  0.2123, -0.3461,\n",
            "         1.0004])\n",
            "tensor([ 0.2508,  0.1271, -0.1363, -0.0673, -0.1217,  0.1398,  0.2121, -0.3471,\n",
            "         1.0004])\n",
            "tensor([ 0.2505,  0.1272, -0.1362, -0.0670, -0.1216,  0.1398,  0.2122, -0.3466,\n",
            "         1.0004])\n",
            "tensor([ 0.2509,  0.1271, -0.1363, -0.0673, -0.1218,  0.1398,  0.2121, -0.3472,\n",
            "         1.0004])\n",
            "tensor([ 0.2511,  0.1271, -0.1363, -0.0675, -0.1218,  0.1398,  0.2120, -0.3475,\n",
            "         1.0005])\n",
            "tensor([ 0.2514,  0.1272, -0.1362, -0.0677, -0.1218,  0.1398,  0.2119, -0.3479,\n",
            "         1.0005])\n",
            "tensor([ 0.2516,  0.1272, -0.1362, -0.0678, -0.1218,  0.1398,  0.2119, -0.3482,\n",
            "         1.0005])\n",
            "tensor([ 0.2519,  0.1273, -0.1361, -0.0680, -0.1217,  0.1397,  0.2118, -0.3486,\n",
            "         1.0005])\n",
            "tensor([ 0.2523,  0.1274, -0.1359, -0.0682, -0.1217,  0.1396,  0.2117, -0.3492,\n",
            "         1.0005])\n",
            "tensor([ 0.2525,  0.1274, -0.1359, -0.0682, -0.1217,  0.1396,  0.2117, -0.3494,\n",
            "         1.0005])\n",
            "tensor([ 0.2526,  0.1274, -0.1359, -0.0683, -0.1216,  0.1396,  0.2117, -0.3497,\n",
            "         1.0005])\n",
            "tensor([ 0.2529,  0.1275, -0.1359, -0.0684, -0.1216,  0.1396,  0.2116, -0.3501,\n",
            "         1.0005])\n",
            "tensor([ 0.2534,  0.1276, -0.1359, -0.0687, -0.1215,  0.1395,  0.2115, -0.3507,\n",
            "         1.0006])\n",
            "tensor([ 0.2537,  0.1276, -0.1358, -0.0689, -0.1214,  0.1394,  0.2114, -0.3512,\n",
            "         1.0006])\n",
            "tensor([ 0.2539,  0.1276, -0.1358, -0.0690, -0.1213,  0.1394,  0.2114, -0.3514,\n",
            "         1.0006])\n",
            "tensor([ 0.2541,  0.1277, -0.1358, -0.0692, -0.1213,  0.1393,  0.2114, -0.3518,\n",
            "         1.0006])\n",
            "tensor([ 0.2544,  0.1277, -0.1359, -0.0695, -0.1212,  0.1393,  0.2113, -0.3523,\n",
            "         1.0006])\n",
            "tensor([ 0.2544,  0.1277, -0.1359, -0.0696, -0.1212,  0.1393,  0.2113, -0.3523,\n",
            "         1.0006])\n",
            "tensor([ 0.2544,  0.1277, -0.1359, -0.0697, -0.1213,  0.1393,  0.2113, -0.3524,\n",
            "         1.0006])\n",
            "tensor([ 0.2546,  0.1277, -0.1360, -0.0699, -0.1213,  0.1393,  0.2113, -0.3527,\n",
            "         1.0006])\n",
            "tensor([ 0.2548,  0.1277, -0.1360, -0.0702, -0.1213,  0.1392,  0.2112, -0.3531,\n",
            "         1.0006])\n",
            "tensor([ 0.2552,  0.1278, -0.1360, -0.0708, -0.1214,  0.1392,  0.2112, -0.3540,\n",
            "         1.0007])\n",
            "Iteration 09, end: 20671.970712, niter: 100, nfeval: 106\n",
            "Iteration 10, start: 20671.970712\n",
            "tensor([ 0.2552,  0.1278, -0.1360, -0.0708, -0.1214,  0.1392,  0.2112, -0.3540,\n",
            "         1.0007])\n",
            "tensor([ 0.2552,  0.1278, -0.1360, -0.0708, -0.1214,  0.1393,  0.2112, -0.3540,\n",
            "         1.0000])\n",
            "tensor([ 0.2552,  0.1278, -0.1360, -0.0708, -0.1214,  0.1393,  0.2112, -0.3540,\n",
            "         1.0000])\n",
            "Iteration 10, end: 20671.980983, niter: 3, nfeval: 5\n",
            "Device cpu, Repeat 0: elapsed time 74.314825, elapsed time per function call 0.077170, lower bound 20671.980983\n"
          ]
        }
      ],
      "source": [
        "# devices = [\"cpu\", f\"cuda:{cuda_device_index}\"]\n",
        "devices = [\"cpu\"]\n",
        "elapsed_times = torch.empty((len(devices), n_repeats), dtype=torch.double)\n",
        "lower_bounds = torch.empty((len(devices), n_repeats), dtype=torch.double)\n",
        "num_fun_eval = torch.empty((len(devices), n_repeats), dtype=torch.double)\n",
        "num_iter = torch.empty((len(devices), n_repeats), dtype=torch.double)\n",
        "\n",
        "for d, device in enumerate(devices):\n",
        "    r = 0\n",
        "    while r < n_repeats:\n",
        "        print(f\"Processing device {device}, repeat {r}\")\n",
        "        #    finally, get the parameters from the dynamic,\n",
        "        #    configuration file and default parameter specifications\n",
        "        params, kernels_types = svGPFA.utils.initUtils.getParamsAndKernelsTypes(\n",
        "            n_trials=n_trials, n_neurons=n_neurons, n_latents=n_latents,\n",
        "            trials_start_times=trials_start_times,\n",
        "            trials_end_times=trials_end_times,\n",
        "            dynamic_params_spec={},\n",
        "            config_file_params_spec=config_file_params,\n",
        "            default_params_spec=default_params)\n",
        "\n",
        "        # build kernels\n",
        "        kernels_params0 = params[\"initial_params\"][\"posterior_on_latents\"][\"kernels_matrices_store\"][\"kernels_params0\"]\n",
        "        kernels = svGPFA.utils.miscUtils.buildKernels(\n",
        "            kernels_types=kernels_types, kernels_params=kernels_params0)\n",
        "\n",
        "        # create model\n",
        "        kernelMatrixInvMethod = svGPFA.stats.svGPFAModelFactory.kernelMatrixInvChol\n",
        "        indPointsCovRep = svGPFA.stats.svGPFAModelFactory.indPointsCovChol\n",
        "        model = svGPFA.stats.svGPFAModelFactory.SVGPFAModelFactory.buildModelPyTorch(\n",
        "            conditionalDist=svGPFA.stats.svGPFAModelFactory.PointProcess,\n",
        "            linkFunction=svGPFA.stats.svGPFAModelFactory.ExponentialLink,\n",
        "            embeddingType=svGPFA.stats.svGPFAModelFactory.LinearEmbedding,\n",
        "            kernels=kernels, kernelMatrixInvMethod=kernelMatrixInvMethod,\n",
        "            indPointsCovRep=indPointsCovRep)\n",
        "\n",
        "        model.setParamsAndData(\n",
        "            measurements=spikes_times,\n",
        "            initial_params=params[\"initial_params\"],\n",
        "            eLLCalculationParams=params[\"ell_calculation_params\"],\n",
        "            priorCovRegParam=params[\"optim_params\"][\"prior_cov_reg_param\"])\n",
        "\n",
        "        model.to(device=device)\n",
        "\n",
        "        # maximize lower bound\n",
        "        svEM = svGPFA.stats.svEM.SVEM_PyTorch()\n",
        "        try:\n",
        "            lowerBoundHist, elapsedTimeHist, terminationInfo,\\\n",
        "            iterationsModelParams, num_fun_eval[d, r], num_iter[d, r] = \\\n",
        "                svEM.maximizeSimultaneously(model=model,\n",
        "                                            optim_params=params[\"optim_params\"])\n",
        "            elapsed_times[d, r] = elapsedTimeHist[-1]\n",
        "            lower_bounds[d, r] = lowerBoundHist[-1]\n",
        "        except Exception as e:\n",
        "            print(\"Exception detected. Retrying\")\n",
        "            stack_trace = traceback.format_exc()\n",
        "            print(e)\n",
        "            print(stack_trace)\n",
        "        print(\"Device {:s}, Repeat {:d}: elapsed time {:f}, \"\n",
        "              \"elapsed time per function call {:f}, \"\n",
        "              \"lower bound {:f}\".format(device, r, elapsed_times[d, r],\n",
        "                                        elapsed_times[d, r]/num_fun_eval[d, r],\n",
        "                                        lower_bounds[d, r]))\n",
        "        r += 1\n",
        ""
      ]
    },
    {
      "cell_type": "markdown",
      "id": "eb8f0b52-7198-4da7-9dbe-f8a91c11bfd2",
      "metadata": {
        "id": "eb8f0b52-7198-4da7-9dbe-f8a91c11bfd2"
      },
      "source": [
        "## Plot results"
      ]
    },
    {
      "cell_type": "code",
      "execution_count": null,
      "id": "33e5aa2c-7f8a-4f6a-8a7b-73bba96255dd",
      "metadata": {
        "id": "33e5aa2c-7f8a-4f6a-8a7b-73bba96255dd",
        "outputId": "04961760-0fe7-4be7-88f7-d9c47c8b4176"
      },
      "outputs": [
        {
          "data": {
            "application/vnd.plotly.v1+json": {
              "config": {
                "plotlyServerURL": "https://plot.ly"
              },
              "data": [
                {
                  "hoverinfo": "text",
                  "hovertext": [
                    "num_fun_eval: 963.0<br>num_iter: 874.0<br>elapsed_time_per_funcall: 0.07717011898353711"
                  ],
                  "mode": "markers",
                  "name": "cpu",
                  "type": "scatter",
                  "x": [
                    74.31482458114624
                  ],
                  "y": [
                    20671.980983320733
                  ]
                }
              ],
              "layout": {
                "autosize": true,
                "template": {
                  "data": {
                    "bar": [
                      {
                        "error_x": {
                          "color": "#2a3f5f"
                        },
                        "error_y": {
                          "color": "#2a3f5f"
                        },
                        "marker": {
                          "line": {
                            "color": "#E5ECF6",
                            "width": 0.5
                          },
                          "pattern": {
                            "fillmode": "overlay",
                            "size": 10,
                            "solidity": 0.2
                          }
                        },
                        "type": "bar"
                      }
                    ],
                    "barpolar": [
                      {
                        "marker": {
                          "line": {
                            "color": "#E5ECF6",
                            "width": 0.5
                          },
                          "pattern": {
                            "fillmode": "overlay",
                            "size": 10,
                            "solidity": 0.2
                          }
                        },
                        "type": "barpolar"
                      }
                    ],
                    "carpet": [
                      {
                        "aaxis": {
                          "endlinecolor": "#2a3f5f",
                          "gridcolor": "white",
                          "linecolor": "white",
                          "minorgridcolor": "white",
                          "startlinecolor": "#2a3f5f"
                        },
                        "baxis": {
                          "endlinecolor": "#2a3f5f",
                          "gridcolor": "white",
                          "linecolor": "white",
                          "minorgridcolor": "white",
                          "startlinecolor": "#2a3f5f"
                        },
                        "type": "carpet"
                      }
                    ],
                    "choropleth": [
                      {
                        "colorbar": {
                          "outlinewidth": 0,
                          "ticks": ""
                        },
                        "type": "choropleth"
                      }
                    ],
                    "contour": [
                      {
                        "colorbar": {
                          "outlinewidth": 0,
                          "ticks": ""
                        },
                        "colorscale": [
                          [
                            0,
                            "#0d0887"
                          ],
                          [
                            0.1111111111111111,
                            "#46039f"
                          ],
                          [
                            0.2222222222222222,
                            "#7201a8"
                          ],
                          [
                            0.3333333333333333,
                            "#9c179e"
                          ],
                          [
                            0.4444444444444444,
                            "#bd3786"
                          ],
                          [
                            0.5555555555555556,
                            "#d8576b"
                          ],
                          [
                            0.6666666666666666,
                            "#ed7953"
                          ],
                          [
                            0.7777777777777778,
                            "#fb9f3a"
                          ],
                          [
                            0.8888888888888888,
                            "#fdca26"
                          ],
                          [
                            1,
                            "#f0f921"
                          ]
                        ],
                        "type": "contour"
                      }
                    ],
                    "contourcarpet": [
                      {
                        "colorbar": {
                          "outlinewidth": 0,
                          "ticks": ""
                        },
                        "type": "contourcarpet"
                      }
                    ],
                    "heatmap": [
                      {
                        "colorbar": {
                          "outlinewidth": 0,
                          "ticks": ""
                        },
                        "colorscale": [
                          [
                            0,
                            "#0d0887"
                          ],
                          [
                            0.1111111111111111,
                            "#46039f"
                          ],
                          [
                            0.2222222222222222,
                            "#7201a8"
                          ],
                          [
                            0.3333333333333333,
                            "#9c179e"
                          ],
                          [
                            0.4444444444444444,
                            "#bd3786"
                          ],
                          [
                            0.5555555555555556,
                            "#d8576b"
                          ],
                          [
                            0.6666666666666666,
                            "#ed7953"
                          ],
                          [
                            0.7777777777777778,
                            "#fb9f3a"
                          ],
                          [
                            0.8888888888888888,
                            "#fdca26"
                          ],
                          [
                            1,
                            "#f0f921"
                          ]
                        ],
                        "type": "heatmap"
                      }
                    ],
                    "heatmapgl": [
                      {
                        "colorbar": {
                          "outlinewidth": 0,
                          "ticks": ""
                        },
                        "colorscale": [
                          [
                            0,
                            "#0d0887"
                          ],
                          [
                            0.1111111111111111,
                            "#46039f"
                          ],
                          [
                            0.2222222222222222,
                            "#7201a8"
                          ],
                          [
                            0.3333333333333333,
                            "#9c179e"
                          ],
                          [
                            0.4444444444444444,
                            "#bd3786"
                          ],
                          [
                            0.5555555555555556,
                            "#d8576b"
                          ],
                          [
                            0.6666666666666666,
                            "#ed7953"
                          ],
                          [
                            0.7777777777777778,
                            "#fb9f3a"
                          ],
                          [
                            0.8888888888888888,
                            "#fdca26"
                          ],
                          [
                            1,
                            "#f0f921"
                          ]
                        ],
                        "type": "heatmapgl"
                      }
                    ],
                    "histogram": [
                      {
                        "marker": {
                          "pattern": {
                            "fillmode": "overlay",
                            "size": 10,
                            "solidity": 0.2
                          }
                        },
                        "type": "histogram"
                      }
                    ],
                    "histogram2d": [
                      {
                        "colorbar": {
                          "outlinewidth": 0,
                          "ticks": ""
                        },
                        "colorscale": [
                          [
                            0,
                            "#0d0887"
                          ],
                          [
                            0.1111111111111111,
                            "#46039f"
                          ],
                          [
                            0.2222222222222222,
                            "#7201a8"
                          ],
                          [
                            0.3333333333333333,
                            "#9c179e"
                          ],
                          [
                            0.4444444444444444,
                            "#bd3786"
                          ],
                          [
                            0.5555555555555556,
                            "#d8576b"
                          ],
                          [
                            0.6666666666666666,
                            "#ed7953"
                          ],
                          [
                            0.7777777777777778,
                            "#fb9f3a"
                          ],
                          [
                            0.8888888888888888,
                            "#fdca26"
                          ],
                          [
                            1,
                            "#f0f921"
                          ]
                        ],
                        "type": "histogram2d"
                      }
                    ],
                    "histogram2dcontour": [
                      {
                        "colorbar": {
                          "outlinewidth": 0,
                          "ticks": ""
                        },
                        "colorscale": [
                          [
                            0,
                            "#0d0887"
                          ],
                          [
                            0.1111111111111111,
                            "#46039f"
                          ],
                          [
                            0.2222222222222222,
                            "#7201a8"
                          ],
                          [
                            0.3333333333333333,
                            "#9c179e"
                          ],
                          [
                            0.4444444444444444,
                            "#bd3786"
                          ],
                          [
                            0.5555555555555556,
                            "#d8576b"
                          ],
                          [
                            0.6666666666666666,
                            "#ed7953"
                          ],
                          [
                            0.7777777777777778,
                            "#fb9f3a"
                          ],
                          [
                            0.8888888888888888,
                            "#fdca26"
                          ],
                          [
                            1,
                            "#f0f921"
                          ]
                        ],
                        "type": "histogram2dcontour"
                      }
                    ],
                    "mesh3d": [
                      {
                        "colorbar": {
                          "outlinewidth": 0,
                          "ticks": ""
                        },
                        "type": "mesh3d"
                      }
                    ],
                    "parcoords": [
                      {
                        "line": {
                          "colorbar": {
                            "outlinewidth": 0,
                            "ticks": ""
                          }
                        },
                        "type": "parcoords"
                      }
                    ],
                    "pie": [
                      {
                        "automargin": true,
                        "type": "pie"
                      }
                    ],
                    "scatter": [
                      {
                        "fillpattern": {
                          "fillmode": "overlay",
                          "size": 10,
                          "solidity": 0.2
                        },
                        "type": "scatter"
                      }
                    ],
                    "scatter3d": [
                      {
                        "line": {
                          "colorbar": {
                            "outlinewidth": 0,
                            "ticks": ""
                          }
                        },
                        "marker": {
                          "colorbar": {
                            "outlinewidth": 0,
                            "ticks": ""
                          }
                        },
                        "type": "scatter3d"
                      }
                    ],
                    "scattercarpet": [
                      {
                        "marker": {
                          "colorbar": {
                            "outlinewidth": 0,
                            "ticks": ""
                          }
                        },
                        "type": "scattercarpet"
                      }
                    ],
                    "scattergeo": [
                      {
                        "marker": {
                          "colorbar": {
                            "outlinewidth": 0,
                            "ticks": ""
                          }
                        },
                        "type": "scattergeo"
                      }
                    ],
                    "scattergl": [
                      {
                        "marker": {
                          "colorbar": {
                            "outlinewidth": 0,
                            "ticks": ""
                          }
                        },
                        "type": "scattergl"
                      }
                    ],
                    "scattermapbox": [
                      {
                        "marker": {
                          "colorbar": {
                            "outlinewidth": 0,
                            "ticks": ""
                          }
                        },
                        "type": "scattermapbox"
                      }
                    ],
                    "scatterpolar": [
                      {
                        "marker": {
                          "colorbar": {
                            "outlinewidth": 0,
                            "ticks": ""
                          }
                        },
                        "type": "scatterpolar"
                      }
                    ],
                    "scatterpolargl": [
                      {
                        "marker": {
                          "colorbar": {
                            "outlinewidth": 0,
                            "ticks": ""
                          }
                        },
                        "type": "scatterpolargl"
                      }
                    ],
                    "scatterternary": [
                      {
                        "marker": {
                          "colorbar": {
                            "outlinewidth": 0,
                            "ticks": ""
                          }
                        },
                        "type": "scatterternary"
                      }
                    ],
                    "surface": [
                      {
                        "colorbar": {
                          "outlinewidth": 0,
                          "ticks": ""
                        },
                        "colorscale": [
                          [
                            0,
                            "#0d0887"
                          ],
                          [
                            0.1111111111111111,
                            "#46039f"
                          ],
                          [
                            0.2222222222222222,
                            "#7201a8"
                          ],
                          [
                            0.3333333333333333,
                            "#9c179e"
                          ],
                          [
                            0.4444444444444444,
                            "#bd3786"
                          ],
                          [
                            0.5555555555555556,
                            "#d8576b"
                          ],
                          [
                            0.6666666666666666,
                            "#ed7953"
                          ],
                          [
                            0.7777777777777778,
                            "#fb9f3a"
                          ],
                          [
                            0.8888888888888888,
                            "#fdca26"
                          ],
                          [
                            1,
                            "#f0f921"
                          ]
                        ],
                        "type": "surface"
                      }
                    ],
                    "table": [
                      {
                        "cells": {
                          "fill": {
                            "color": "#EBF0F8"
                          },
                          "line": {
                            "color": "white"
                          }
                        },
                        "header": {
                          "fill": {
                            "color": "#C8D4E3"
                          },
                          "line": {
                            "color": "white"
                          }
                        },
                        "type": "table"
                      }
                    ]
                  },
                  "layout": {
                    "annotationdefaults": {
                      "arrowcolor": "#2a3f5f",
                      "arrowhead": 0,
                      "arrowwidth": 1
                    },
                    "autotypenumbers": "strict",
                    "coloraxis": {
                      "colorbar": {
                        "outlinewidth": 0,
                        "ticks": ""
                      }
                    },
                    "colorscale": {
                      "diverging": [
                        [
                          0,
                          "#8e0152"
                        ],
                        [
                          0.1,
                          "#c51b7d"
                        ],
                        [
                          0.2,
                          "#de77ae"
                        ],
                        [
                          0.3,
                          "#f1b6da"
                        ],
                        [
                          0.4,
                          "#fde0ef"
                        ],
                        [
                          0.5,
                          "#f7f7f7"
                        ],
                        [
                          0.6,
                          "#e6f5d0"
                        ],
                        [
                          0.7,
                          "#b8e186"
                        ],
                        [
                          0.8,
                          "#7fbc41"
                        ],
                        [
                          0.9,
                          "#4d9221"
                        ],
                        [
                          1,
                          "#276419"
                        ]
                      ],
                      "sequential": [
                        [
                          0,
                          "#0d0887"
                        ],
                        [
                          0.1111111111111111,
                          "#46039f"
                        ],
                        [
                          0.2222222222222222,
                          "#7201a8"
                        ],
                        [
                          0.3333333333333333,
                          "#9c179e"
                        ],
                        [
                          0.4444444444444444,
                          "#bd3786"
                        ],
                        [
                          0.5555555555555556,
                          "#d8576b"
                        ],
                        [
                          0.6666666666666666,
                          "#ed7953"
                        ],
                        [
                          0.7777777777777778,
                          "#fb9f3a"
                        ],
                        [
                          0.8888888888888888,
                          "#fdca26"
                        ],
                        [
                          1,
                          "#f0f921"
                        ]
                      ],
                      "sequentialminus": [
                        [
                          0,
                          "#0d0887"
                        ],
                        [
                          0.1111111111111111,
                          "#46039f"
                        ],
                        [
                          0.2222222222222222,
                          "#7201a8"
                        ],
                        [
                          0.3333333333333333,
                          "#9c179e"
                        ],
                        [
                          0.4444444444444444,
                          "#bd3786"
                        ],
                        [
                          0.5555555555555556,
                          "#d8576b"
                        ],
                        [
                          0.6666666666666666,
                          "#ed7953"
                        ],
                        [
                          0.7777777777777778,
                          "#fb9f3a"
                        ],
                        [
                          0.8888888888888888,
                          "#fdca26"
                        ],
                        [
                          1,
                          "#f0f921"
                        ]
                      ]
                    },
                    "colorway": [
                      "#636efa",
                      "#EF553B",
                      "#00cc96",
                      "#ab63fa",
                      "#FFA15A",
                      "#19d3f3",
                      "#FF6692",
                      "#B6E880",
                      "#FF97FF",
                      "#FECB52"
                    ],
                    "font": {
                      "color": "#2a3f5f"
                    },
                    "geo": {
                      "bgcolor": "white",
                      "lakecolor": "white",
                      "landcolor": "#E5ECF6",
                      "showlakes": true,
                      "showland": true,
                      "subunitcolor": "white"
                    },
                    "hoverlabel": {
                      "align": "left"
                    },
                    "hovermode": "closest",
                    "mapbox": {
                      "style": "light"
                    },
                    "paper_bgcolor": "white",
                    "plot_bgcolor": "#E5ECF6",
                    "polar": {
                      "angularaxis": {
                        "gridcolor": "white",
                        "linecolor": "white",
                        "ticks": ""
                      },
                      "bgcolor": "#E5ECF6",
                      "radialaxis": {
                        "gridcolor": "white",
                        "linecolor": "white",
                        "ticks": ""
                      }
                    },
                    "scene": {
                      "xaxis": {
                        "backgroundcolor": "#E5ECF6",
                        "gridcolor": "white",
                        "gridwidth": 2,
                        "linecolor": "white",
                        "showbackground": true,
                        "ticks": "",
                        "zerolinecolor": "white"
                      },
                      "yaxis": {
                        "backgroundcolor": "#E5ECF6",
                        "gridcolor": "white",
                        "gridwidth": 2,
                        "linecolor": "white",
                        "showbackground": true,
                        "ticks": "",
                        "zerolinecolor": "white"
                      },
                      "zaxis": {
                        "backgroundcolor": "#E5ECF6",
                        "gridcolor": "white",
                        "gridwidth": 2,
                        "linecolor": "white",
                        "showbackground": true,
                        "ticks": "",
                        "zerolinecolor": "white"
                      }
                    },
                    "shapedefaults": {
                      "line": {
                        "color": "#2a3f5f"
                      }
                    },
                    "ternary": {
                      "aaxis": {
                        "gridcolor": "white",
                        "linecolor": "white",
                        "ticks": ""
                      },
                      "baxis": {
                        "gridcolor": "white",
                        "linecolor": "white",
                        "ticks": ""
                      },
                      "bgcolor": "#E5ECF6",
                      "caxis": {
                        "gridcolor": "white",
                        "linecolor": "white",
                        "ticks": ""
                      }
                    },
                    "title": {
                      "x": 0.05
                    },
                    "xaxis": {
                      "automargin": true,
                      "gridcolor": "white",
                      "linecolor": "white",
                      "ticks": "",
                      "title": {
                        "standoff": 15
                      },
                      "zerolinecolor": "white",
                      "zerolinewidth": 2
                    },
                    "yaxis": {
                      "automargin": true,
                      "gridcolor": "white",
                      "linecolor": "white",
                      "ticks": "",
                      "title": {
                        "standoff": 15
                      },
                      "zerolinecolor": "white",
                      "zerolinewidth": 2
                    }
                  }
                },
                "xaxis": {
                  "autorange": true,
                  "range": [
                    73.31482458114624,
                    75.31482458114624
                  ],
                  "title": {
                    "text": "Elapsed Time (sec)"
                  },
                  "type": "linear"
                },
                "yaxis": {
                  "autorange": true,
                  "range": [
                    20670.980983320733,
                    20672.980983320733
                  ],
                  "title": {
                    "text": "Lower Bound"
                  },
                  "type": "linear"
                }
              }
            },
            "image/png": "[encoded data removed]",
            "text/html": [
              "<div>                            <div id=\"784b2db8-26fa-43a8-9d33-c3326f433d0e\" class=\"plotly-graph-div\" style=\"height:525px; width:100%;\"></div>            <script type=\"text/javascript\">                require([\"plotly\"], function(Plotly) {                    window.PLOTLYENV=window.PLOTLYENV || {};                                    if (document.getElementById(\"784b2db8-26fa-43a8-9d33-c3326f433d0e\")) {                    Plotly.newPlot(                        \"784b2db8-26fa-43a8-9d33-c3326f433d0e\",                        [{\"hoverinfo\":\"text\",\"hovertext\":[\"num_fun_eval: 963.0<br>num_iter: 874.0<br>elapsed_time_per_funcall: 0.07717011898353711\"],\"mode\":\"markers\",\"name\":\"cpu\",\"x\":[74.31482458114624],\"y\":[20671.980983320733],\"type\":\"scatter\"}],                        {\"template\":{\"data\":{\"histogram2dcontour\":[{\"type\":\"histogram2dcontour\",\"colorbar\":{\"outlinewidth\":0,\"ticks\":\"\"},\"colorscale\":[[0.0,\"#0d0887\"],[0.1111111111111111,\"#46039f\"],[0.2222222222222222,\"#7201a8\"],[0.3333333333333333,\"#9c179e\"],[0.4444444444444444,\"#bd3786\"],[0.5555555555555556,\"#d8576b\"],[0.6666666666666666,\"#ed7953\"],[0.7777777777777778,\"#fb9f3a\"],[0.8888888888888888,\"#fdca26\"],[1.0,\"#f0f921\"]]}],\"choropleth\":[{\"type\":\"choropleth\",\"colorbar\":{\"outlinewidth\":0,\"ticks\":\"\"}}],\"histogram2d\":[{\"type\":\"histogram2d\",\"colorbar\":{\"outlinewidth\":0,\"ticks\":\"\"},\"colorscale\":[[0.0,\"#0d0887\"],[0.1111111111111111,\"#46039f\"],[0.2222222222222222,\"#7201a8\"],[0.3333333333333333,\"#9c179e\"],[0.4444444444444444,\"#bd3786\"],[0.5555555555555556,\"#d8576b\"],[0.6666666666666666,\"#ed7953\"],[0.7777777777777778,\"#fb9f3a\"],[0.8888888888888888,\"#fdca26\"],[1.0,\"#f0f921\"]]}],\"heatmap\":[{\"type\":\"heatmap\",\"colorbar\":{\"outlinewidth\":0,\"ticks\":\"\"},\"colorscale\":[[0.0,\"#0d0887\"],[0.1111111111111111,\"#46039f\"],[0.2222222222222222,\"#7201a8\"],[0.3333333333333333,\"#9c179e\"],[0.4444444444444444,\"#bd3786\"],[0.5555555555555556,\"#d8576b\"],[0.6666666666666666,\"#ed7953\"],[0.7777777777777778,\"#fb9f3a\"],[0.8888888888888888,\"#fdca26\"],[1.0,\"#f0f921\"]]}],\"heatmapgl\":[{\"type\":\"heatmapgl\",\"colorbar\":{\"outlinewidth\":0,\"ticks\":\"\"},\"colorscale\":[[0.0,\"#0d0887\"],[0.1111111111111111,\"#46039f\"],[0.2222222222222222,\"#7201a8\"],[0.3333333333333333,\"#9c179e\"],[0.4444444444444444,\"#bd3786\"],[0.5555555555555556,\"#d8576b\"],[0.6666666666666666,\"#ed7953\"],[0.7777777777777778,\"#fb9f3a\"],[0.8888888888888888,\"#fdca26\"],[1.0,\"#f0f921\"]]}],\"contourcarpet\":[{\"type\":\"contourcarpet\",\"colorbar\":{\"outlinewidth\":0,\"ticks\":\"\"}}],\"contour\":[{\"type\":\"contour\",\"colorbar\":{\"outlinewidth\":0,\"ticks\":\"\"},\"colorscale\":[[0.0,\"#0d0887\"],[0.1111111111111111,\"#46039f\"],[0.2222222222222222,\"#7201a8\"],[0.3333333333333333,\"#9c179e\"],[0.4444444444444444,\"#bd3786\"],[0.5555555555555556,\"#d8576b\"],[0.6666666666666666,\"#ed7953\"],[0.7777777777777778,\"#fb9f3a\"],[0.8888888888888888,\"#fdca26\"],[1.0,\"#f0f921\"]]}],\"surface\":[{\"type\":\"surface\",\"colorbar\":{\"outlinewidth\":0,\"ticks\":\"\"},\"colorscale\":[[0.0,\"#0d0887\"],[0.1111111111111111,\"#46039f\"],[0.2222222222222222,\"#7201a8\"],[0.3333333333333333,\"#9c179e\"],[0.4444444444444444,\"#bd3786\"],[0.5555555555555556,\"#d8576b\"],[0.6666666666666666,\"#ed7953\"],[0.7777777777777778,\"#fb9f3a\"],[0.8888888888888888,\"#fdca26\"],[1.0,\"#f0f921\"]]}],\"mesh3d\":[{\"type\":\"mesh3d\",\"colorbar\":{\"outlinewidth\":0,\"ticks\":\"\"}}],\"scatter\":[{\"fillpattern\":{\"fillmode\":\"overlay\",\"size\":10,\"solidity\":0.2},\"type\":\"scatter\"}],\"parcoords\":[{\"type\":\"parcoords\",\"line\":{\"colorbar\":{\"outlinewidth\":0,\"ticks\":\"\"}}}],\"scatterpolargl\":[{\"type\":\"scatterpolargl\",\"marker\":{\"colorbar\":{\"outlinewidth\":0,\"ticks\":\"\"}}}],\"bar\":[{\"error_x\":{\"color\":\"#2a3f5f\"},\"error_y\":{\"color\":\"#2a3f5f\"},\"marker\":{\"line\":{\"color\":\"#E5ECF6\",\"width\":0.5},\"pattern\":{\"fillmode\":\"overlay\",\"size\":10,\"solidity\":0.2}},\"type\":\"bar\"}],\"scattergeo\":[{\"type\":\"scattergeo\",\"marker\":{\"colorbar\":{\"outlinewidth\":0,\"ticks\":\"\"}}}],\"scatterpolar\":[{\"type\":\"scatterpolar\",\"marker\":{\"colorbar\":{\"outlinewidth\":0,\"ticks\":\"\"}}}],\"histogram\":[{\"marker\":{\"pattern\":{\"fillmode\":\"overlay\",\"size\":10,\"solidity\":0.2}},\"type\":\"histogram\"}],\"scattergl\":[{\"type\":\"scattergl\",\"marker\":{\"colorbar\":{\"outlinewidth\":0,\"ticks\":\"\"}}}],\"scatter3d\":[{\"type\":\"scatter3d\",\"line\":{\"colorbar\":{\"outlinewidth\":0,\"ticks\":\"\"}},\"marker\":{\"colorbar\":{\"outlinewidth\":0,\"ticks\":\"\"}}}],\"scattermapbox\":[{\"type\":\"scattermapbox\",\"marker\":{\"colorbar\":{\"outlinewidth\":0,\"ticks\":\"\"}}}],\"scatterternary\":[{\"type\":\"scatterternary\",\"marker\":{\"colorbar\":{\"outlinewidth\":0,\"ticks\":\"\"}}}],\"scattercarpet\":[{\"type\":\"scattercarpet\",\"marker\":{\"colorbar\":{\"outlinewidth\":0,\"ticks\":\"\"}}}],\"carpet\":[{\"aaxis\":{\"endlinecolor\":\"#2a3f5f\",\"gridcolor\":\"white\",\"linecolor\":\"white\",\"minorgridcolor\":\"white\",\"startlinecolor\":\"#2a3f5f\"},\"baxis\":{\"endlinecolor\":\"#2a3f5f\",\"gridcolor\":\"white\",\"linecolor\":\"white\",\"minorgridcolor\":\"white\",\"startlinecolor\":\"#2a3f5f\"},\"type\":\"carpet\"}],\"table\":[{\"cells\":{\"fill\":{\"color\":\"#EBF0F8\"},\"line\":{\"color\":\"white\"}},\"header\":{\"fill\":{\"color\":\"#C8D4E3\"},\"line\":{\"color\":\"white\"}},\"type\":\"table\"}],\"barpolar\":[{\"marker\":{\"line\":{\"color\":\"#E5ECF6\",\"width\":0.5},\"pattern\":{\"fillmode\":\"overlay\",\"size\":10,\"solidity\":0.2}},\"type\":\"barpolar\"}],\"pie\":[{\"automargin\":true,\"type\":\"pie\"}]},\"layout\":{\"autotypenumbers\":\"strict\",\"colorway\":[\"#636efa\",\"#EF553B\",\"#00cc96\",\"#ab63fa\",\"#FFA15A\",\"#19d3f3\",\"#FF6692\",\"#B6E880\",\"#FF97FF\",\"#FECB52\"],\"font\":{\"color\":\"#2a3f5f\"},\"hovermode\":\"closest\",\"hoverlabel\":{\"align\":\"left\"},\"paper_bgcolor\":\"white\",\"plot_bgcolor\":\"#E5ECF6\",\"polar\":{\"bgcolor\":\"#E5ECF6\",\"angularaxis\":{\"gridcolor\":\"white\",\"linecolor\":\"white\",\"ticks\":\"\"},\"radialaxis\":{\"gridcolor\":\"white\",\"linecolor\":\"white\",\"ticks\":\"\"}},\"ternary\":{\"bgcolor\":\"#E5ECF6\",\"aaxis\":{\"gridcolor\":\"white\",\"linecolor\":\"white\",\"ticks\":\"\"},\"baxis\":{\"gridcolor\":\"white\",\"linecolor\":\"white\",\"ticks\":\"\"},\"caxis\":{\"gridcolor\":\"white\",\"linecolor\":\"white\",\"ticks\":\"\"}},\"coloraxis\":{\"colorbar\":{\"outlinewidth\":0,\"ticks\":\"\"}},\"colorscale\":{\"sequential\":[[0.0,\"#0d0887\"],[0.1111111111111111,\"#46039f\"],[0.2222222222222222,\"#7201a8\"],[0.3333333333333333,\"#9c179e\"],[0.4444444444444444,\"#bd3786\"],[0.5555555555555556,\"#d8576b\"],[0.6666666666666666,\"#ed7953\"],[0.7777777777777778,\"#fb9f3a\"],[0.8888888888888888,\"#fdca26\"],[1.0,\"#f0f921\"]],\"sequentialminus\":[[0.0,\"#0d0887\"],[0.1111111111111111,\"#46039f\"],[0.2222222222222222,\"#7201a8\"],[0.3333333333333333,\"#9c179e\"],[0.4444444444444444,\"#bd3786\"],[0.5555555555555556,\"#d8576b\"],[0.6666666666666666,\"#ed7953\"],[0.7777777777777778,\"#fb9f3a\"],[0.8888888888888888,\"#fdca26\"],[1.0,\"#f0f921\"]],\"diverging\":[[0,\"#8e0152\"],[0.1,\"#c51b7d\"],[0.2,\"#de77ae\"],[0.3,\"#f1b6da\"],[0.4,\"#fde0ef\"],[0.5,\"#f7f7f7\"],[0.6,\"#e6f5d0\"],[0.7,\"#b8e186\"],[0.8,\"#7fbc41\"],[0.9,\"#4d9221\"],[1,\"#276419\"]]},\"xaxis\":{\"gridcolor\":\"white\",\"linecolor\":\"white\",\"ticks\":\"\",\"title\":{\"standoff\":15},\"zerolinecolor\":\"white\",\"automargin\":true,\"zerolinewidth\":2},\"yaxis\":{\"gridcolor\":\"white\",\"linecolor\":\"white\",\"ticks\":\"\",\"title\":{\"standoff\":15},\"zerolinecolor\":\"white\",\"automargin\":true,\"zerolinewidth\":2},\"scene\":{\"xaxis\":{\"backgroundcolor\":\"#E5ECF6\",\"gridcolor\":\"white\",\"linecolor\":\"white\",\"showbackground\":true,\"ticks\":\"\",\"zerolinecolor\":\"white\",\"gridwidth\":2},\"yaxis\":{\"backgroundcolor\":\"#E5ECF6\",\"gridcolor\":\"white\",\"linecolor\":\"white\",\"showbackground\":true,\"ticks\":\"\",\"zerolinecolor\":\"white\",\"gridwidth\":2},\"zaxis\":{\"backgroundcolor\":\"#E5ECF6\",\"gridcolor\":\"white\",\"linecolor\":\"white\",\"showbackground\":true,\"ticks\":\"\",\"zerolinecolor\":\"white\",\"gridwidth\":2}},\"shapedefaults\":{\"line\":{\"color\":\"#2a3f5f\"}},\"annotationdefaults\":{\"arrowcolor\":\"#2a3f5f\",\"arrowhead\":0,\"arrowwidth\":1},\"geo\":{\"bgcolor\":\"white\",\"landcolor\":\"#E5ECF6\",\"subunitcolor\":\"white\",\"showland\":true,\"showlakes\":true,\"lakecolor\":\"white\"},\"title\":{\"x\":0.05},\"mapbox\":{\"style\":\"light\"}}},\"xaxis\":{\"title\":{\"text\":\"Elapsed Time (sec)\"}},\"yaxis\":{\"title\":{\"text\":\"Lower Bound\"}}},                        {\"responsive\": true}                    ).then(function(){\n",
              "                            \n",
              "var gd = document.getElementById('784b2db8-26fa-43a8-9d33-c3326f433d0e');\n",
              "var x = new MutationObserver(function (mutations, observer) {{\n",
              "        var display = window.getComputedStyle(gd).display;\n",
              "        if (!display || display === 'none') {{\n",
              "            console.log([gd, 'removed!']);\n",
              "            Plotly.purge(gd);\n",
              "            observer.disconnect();\n",
              "        }}\n",
              "}});\n",
              "\n",
              "// Listen for the removal of the full notebook cells\n",
              "var notebookContainer = gd.closest('#notebook-container');\n",
              "if (notebookContainer) {{\n",
              "    x.observe(notebookContainer, {childList: true});\n",
              "}}\n",
              "\n",
              "// Listen for the clearing of the current output cell\n",
              "var outputEl = gd.closest('.output');\n",
              "if (outputEl) {{\n",
              "    x.observe(outputEl, {childList: true});\n",
              "}}\n",
              "\n",
              "                        })                };                });            </script>        </div>"
            ]
          },
          "metadata": {},
          "output_type": "display_data"
        }
      ],
      "source": [
        "hoovertext = [[],[]]\n",
        "for d, device in enumerate(devices):\n",
        "    for r in range(n_repeats):\n",
        "        hoovertext[d].append(\n",
        "            (f\"num_fun_eval: {num_fun_eval[d,r]}<br>\"\n",
        "             f\"num_iter: {num_iter[d,r]}<br>\"\n",
        "             f\"elapsed_time_per_funcall: \"\n",
        "             f\"{elapsed_times[d,r]/num_fun_eval[d,r]}\"))\n",
        "\n",
        "fig = go.Figure()\n",
        "for d in range(len(devices)):\n",
        "    trace = go.Scatter(x=elapsed_times[d,:], y=lower_bounds[d, :],\n",
        "                       mode=\"markers\", name=devices[d],\n",
        "                       hovertext=hoovertext[d], hoverinfo=\"text\")\n",
        "    fig.add_trace(trace)\n",
        "fig.update_layout(xaxis_title=\"Elapsed Time (sec)\")\n",
        "fig.update_layout(yaxis_title=\"Lower Bound\")\n",
        "\n",
        "fig"
      ]
    }
  ],
  "metadata": {
    "kernelspec": {
      "display_name": "Python 3 (ipykernel)",
      "language": "python",
      "name": "python3"
    },
    "language_info": {
      "codemirror_mode": {
        "name": "ipython",
        "version": 3
      },
      "file_extension": ".py",
      "mimetype": "text/x-python",
      "name": "python",
      "nbconvert_exporter": "python",
      "pygments_lexer": "ipython3",
      "version": "3.9.16"
    },
    "colab": {
      "provenance": []
    }
  },
  "nbformat": 4,
  "nbformat_minor": 5
}