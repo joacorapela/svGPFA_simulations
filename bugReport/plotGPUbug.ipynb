{
  "cells": [
    {
      "cell_type": "markdown",
      "id": "1450558f-8932-468d-9401-6db67ea938e5",
      "metadata": {
        "id": "1450558f-8932-468d-9401-6db67ea938e5"
      },
      "source": [
        "# GPU bug report"
      ]
    },
    {
      "cell_type": "markdown",
      "source": [
        "## Install code"
      ],
      "metadata": {
        "id": "Yqgne2ops_5K"
      },
      "id": "Yqgne2ops_5K"
    },
    {
      "cell_type": "code",
      "source": [
        "!rm -rf svGPFA\n",
        "!git clone -b optimAllParamsSimultaneouslyCUDA https://github.com/joacorapela/svGPFA.git\n",
        "%pip install git+file:///content/svGPFA\n",
        "!git clone -b master https://github.com/joacorapela/svGPFA_simulations.git\n",
        "%cd svGPFA_simulations/bugReport"
      ],
      "metadata": {
        "colab": {
          "base_uri": "https://localhost:8080/"
        },
        "id": "4waB7l5CnZgo",
        "outputId": "4c88593a-b946-4a06-d912-80ce9b680e29"
      },
      "id": "4waB7l5CnZgo",
      "execution_count": 1,
      "outputs": [
        {
          "output_type": "stream",
          "name": "stdout",
          "text": [
            "Cloning into 'svGPFA'...\n",
            "remote: Enumerating objects: 11772, done.\u001b[K\n",
            "remote: Counting objects: 100% (2640/2640), done.\u001b[K\n",
            "remote: Compressing objects: 100% (833/833), done.\u001b[K\n",
            "remote: Total 11772 (delta 1621), reused 2628 (delta 1617), pack-reused 9132\u001b[K\n",
            "Receiving objects: 100% (11772/11772), 329.68 MiB | 24.90 MiB/s, done.\n",
            "Resolving deltas: 100% (7162/7162), done.\n",
            "Updating files: 100% (300/300), done.\n",
            "Collecting git+file:/content/svGPFA\n",
            "  Cloning file:///content/svGPFA to /tmp/pip-req-build-ffh9g68p\n",
            "  Running command git clone --filter=blob:none --quiet file:///content/svGPFA /tmp/pip-req-build-ffh9g68p\n",
            "  warning: filtering not recognized by server, ignoring\n",
            "  Resolved file:///content/svGPFA to commit a0d7f5d14f55e1ba0df13f9d29597dea8ad211f9\n",
            "  Installing build dependencies ... \u001b[?25l\u001b[?25hdone\n",
            "  Getting requirements to build wheel ... \u001b[?25l\u001b[?25hdone\n",
            "  Installing backend dependencies ... \u001b[?25l\u001b[?25hdone\n",
            "  Preparing metadata (pyproject.toml) ... \u001b[?25l\u001b[?25hdone\n",
            "Collecting gcnu-common (from svGPFA==1.0.1)\n",
            "  Downloading gcnu_common-0.0.15-py3-none-any.whl (14 kB)\n",
            "Requirement already satisfied: torch in /usr/local/lib/python3.10/dist-packages (from svGPFA==1.0.1) (2.1.0+cu118)\n",
            "Requirement already satisfied: scipy in /usr/local/lib/python3.10/dist-packages (from svGPFA==1.0.1) (1.11.3)\n",
            "Requirement already satisfied: numpy<1.28.0,>=1.21.6 in /usr/local/lib/python3.10/dist-packages (from scipy->svGPFA==1.0.1) (1.23.5)\n",
            "Requirement already satisfied: filelock in /usr/local/lib/python3.10/dist-packages (from torch->svGPFA==1.0.1) (3.12.4)\n",
            "Requirement already satisfied: typing-extensions in /usr/local/lib/python3.10/dist-packages (from torch->svGPFA==1.0.1) (4.5.0)\n",
            "Requirement already satisfied: sympy in /usr/local/lib/python3.10/dist-packages (from torch->svGPFA==1.0.1) (1.12)\n",
            "Requirement already satisfied: networkx in /usr/local/lib/python3.10/dist-packages (from torch->svGPFA==1.0.1) (3.2)\n",
            "Requirement already satisfied: jinja2 in /usr/local/lib/python3.10/dist-packages (from torch->svGPFA==1.0.1) (3.1.2)\n",
            "Requirement already satisfied: fsspec in /usr/local/lib/python3.10/dist-packages (from torch->svGPFA==1.0.1) (2023.6.0)\n",
            "Requirement already satisfied: triton==2.1.0 in /usr/local/lib/python3.10/dist-packages (from torch->svGPFA==1.0.1) (2.1.0)\n",
            "Requirement already satisfied: MarkupSafe>=2.0 in /usr/local/lib/python3.10/dist-packages (from jinja2->torch->svGPFA==1.0.1) (2.1.3)\n",
            "Requirement already satisfied: mpmath>=0.19 in /usr/local/lib/python3.10/dist-packages (from sympy->torch->svGPFA==1.0.1) (1.3.0)\n",
            "Building wheels for collected packages: svGPFA\n",
            "  Building wheel for svGPFA (pyproject.toml) ... \u001b[?25l\u001b[?25hdone\n",
            "  Created wheel for svGPFA: filename=svGPFA-1.0.1-py3-none-any.whl size=65431 sha256=058c37926b6b17ac213b0a19549829a5d0841e4a7e7302010767dd27eda385fc\n",
            "  Stored in directory: /tmp/pip-ephem-wheel-cache-zsfncm5g/wheels/45/ed/d7/df542a4a05a852c8b1ba39ad27d3a253d9533e5f5cb367d21d\n",
            "Successfully built svGPFA\n",
            "Installing collected packages: gcnu-common, svGPFA\n",
            "Successfully installed gcnu-common-0.0.15 svGPFA-1.0.1\n",
            "Cloning into 'svGPFA_simulations'...\n",
            "remote: Enumerating objects: 355, done.\u001b[K\n",
            "remote: Counting objects: 100% (355/355), done.\u001b[K\n",
            "remote: Compressing objects: 100% (170/170), done.\u001b[K\n",
            "remote: Total 355 (delta 150), reused 337 (delta 141), pack-reused 0\u001b[K\n",
            "Receiving objects: 100% (355/355), 3.49 MiB | 16.12 MiB/s, done.\n",
            "Resolving deltas: 100% (150/150), done.\n",
            "/content/svGPFA_simulations/bugReport\n"
          ]
        }
      ]
    },
    {
      "cell_type": "markdown",
      "id": "3b57b097-6337-486f-95fb-2393af54990a",
      "metadata": {
        "id": "3b57b097-6337-486f-95fb-2393af54990a"
      },
      "source": [
        "## Import requirements"
      ]
    },
    {
      "cell_type": "code",
      "execution_count": 2,
      "id": "b6c2c9b1-a07d-4f58-a12a-f14995126d68",
      "metadata": {
        "id": "b6c2c9b1-a07d-4f58-a12a-f14995126d68"
      },
      "outputs": [],
      "source": [
        "import os\n",
        "import traceback\n",
        "import random\n",
        "import pickle\n",
        "import configparser\n",
        "import torch\n",
        "import plotly.graph_objects as go\n",
        "\n",
        "import gcnu_common.utils.config_dict\n",
        "import svGPFA.stats.svGPFAModelFactory\n",
        "import svGPFA.stats.svEM\n",
        "import svGPFA.utils.configUtils\n",
        "import svGPFA.utils.miscUtils\n",
        "import svGPFA.utils.initUtils"
      ]
    },
    {
      "cell_type": "markdown",
      "id": "fef022be-5589-4f95-87ba-420d32d3e30a",
      "metadata": {
        "id": "fef022be-5589-4f95-87ba-420d32d3e30a"
      },
      "source": [
        "## Configuration parameters"
      ]
    },
    {
      "cell_type": "code",
      "execution_count": 3,
      "id": "1de4acee-fbda-4ab8-93d5-ac0f8d90786d",
      "metadata": {
        "id": "1de4acee-fbda-4ab8-93d5-ac0f8d90786d"
      },
      "outputs": [],
      "source": [
        "sim_res_number = 91450833\n",
        "est_init_number = 551\n",
        "n_repeats = 1\n",
        "cuda_device_index = 0\n",
        "est_init_config_filename_pattern = \"../data/{:08d}_estimation_metaData.ini\"\n",
        "sim_res_config_filename_pattern = \"../results/{:08d}_simulation_metaData.ini\""
      ]
    },
    {
      "cell_type": "markdown",
      "id": "a95de65a-c72a-4101-ab2e-10868a867b35",
      "metadata": {
        "id": "a95de65a-c72a-4101-ab2e-10868a867b35"
      },
      "source": [
        "# Load data"
      ]
    },
    {
      "cell_type": "code",
      "execution_count": 4,
      "id": "608a393b-0b85-4128-8bde-3392baf108dd",
      "metadata": {
        "id": "608a393b-0b85-4128-8bde-3392baf108dd"
      },
      "outputs": [],
      "source": [
        "sim_res_config_filename = sim_res_config_filename_pattern.format(\n",
        "    sim_res_number)\n",
        "sim_res_config = configparser.ConfigParser()\n",
        "sim_res_config.read(sim_res_config_filename)\n",
        "sim_res_filename = sim_res_config[\"simulation_results\"][\"sim_res_filename\"]\n",
        "with open(sim_res_filename, \"rb\") as f:\n",
        "    sim_res = pickle.load(f)\n",
        "spikes_times = sim_res[\"spikes_times\"]\n",
        "n_trials = len(spikes_times)\n",
        "n_neurons = len(spikes_times[0])\n",
        "\n",
        "spikes_times = [[spikes_times[r][n].tolist() for n in range(n_neurons)]\n",
        "                for r in range(n_trials)]\n",
        "\n",
        "sim_init_config_filename = sim_res_config[\"simulation_params\"][\"sim_init_config_filename\"]\n",
        "sim_init_config = configparser.ConfigParser()\n",
        "sim_init_config.read(sim_init_config_filename)\n",
        "trials_start_times = [float(str) for str in sim_init_config[\"data_structure_params\"][\"trials_start_times\"][1:-1].split(\",\")]\n",
        "trials_end_times = [float(str) for str in sim_init_config[\"data_structure_params\"][\"trials_end_times\"][1:-1].split(\",\")]\n",
        "\n",
        "est_init_config_filename = est_init_config_filename_pattern.format(\n",
        "    est_init_number)\n",
        "est_init_config = configparser.ConfigParser()\n",
        "est_init_config.read(est_init_config_filename)\n",
        "n_latents = int(est_init_config[\"model_structure_params\"][\"n_latents\"])"
      ]
    },
    {
      "cell_type": "markdown",
      "id": "4dd0897d-fe23-46ef-aff2-275bd5e855b5",
      "metadata": {
        "id": "4dd0897d-fe23-46ef-aff2-275bd5e855b5"
      },
      "source": [
        "## Build parameters"
      ]
    },
    {
      "cell_type": "markdown",
      "id": "7d3b1408-397a-4810-af98-d67358409355",
      "metadata": {
        "id": "7d3b1408-397a-4810-af98-d67358409355"
      },
      "source": [
        "### Build configuration file parameter specifications"
      ]
    },
    {
      "cell_type": "code",
      "execution_count": 5,
      "id": "3edeacce-cf75-4fc7-b3ba-8d876351128e",
      "metadata": {
        "id": "3edeacce-cf75-4fc7-b3ba-8d876351128e"
      },
      "outputs": [],
      "source": [
        "args_info = svGPFA.utils.initUtils.getArgsInfo()\n",
        "strings_dict = gcnu_common.utils.config_dict.GetDict(\n",
        "    config=est_init_config).get_dict()\n",
        "config_file_params = svGPFA.utils.initUtils.getParamsDictFromStringsDict(\n",
        "    n_latents=n_latents, n_trials=n_trials, strings_dict=strings_dict,\n",
        "    args_info=args_info)"
      ]
    },
    {
      "cell_type": "markdown",
      "id": "b1cc8398-a203-4df2-83ff-bbf9d4adfdf3",
      "metadata": {
        "id": "b1cc8398-a203-4df2-83ff-bbf9d4adfdf3"
      },
      "source": [
        "### Build default parameter specificiations"
      ]
    },
    {
      "cell_type": "code",
      "execution_count": 6,
      "id": "9199430c-a419-488b-b558-82bea4e7ab82",
      "metadata": {
        "id": "9199430c-a419-488b-b558-82bea4e7ab82"
      },
      "outputs": [],
      "source": [
        "default_params = svGPFA.utils.initUtils.getDefaultParamsDict(\n",
        "    n_neurons=n_neurons, n_trials=n_trials, n_latents=n_latents)"
      ]
    },
    {
      "cell_type": "markdown",
      "id": "e240d516-a3b4-4850-9331-e05d15fdb266",
      "metadata": {
        "id": "e240d516-a3b4-4850-9331-e05d15fdb266"
      },
      "source": [
        "## Perform estimations"
      ]
    },
    {
      "cell_type": "code",
      "execution_count": 7,
      "id": "481fc431-e048-4169-ac8a-492655d106e8",
      "metadata": {
        "id": "481fc431-e048-4169-ac8a-492655d106e8",
        "outputId": "17d4c227-206e-40fa-f7ab-8d5ec20212d6",
        "colab": {
          "base_uri": "https://localhost:8080/"
        }
      },
      "outputs": [
        {
          "output_type": "stream",
          "name": "stdout",
          "text": [
            "Processing device cpu, repeat 0\n",
            "Extracted config_file_params_spec[optim_params][n_quad]=200\n",
            "Extracted config_file_params_spec[ind_points_locs_params0][n_ind_points]=tensor([9, 9], dtype=torch.int32)\n",
            "Extracted from config_file c0_distribution=Normal, c0_loc=0.0, c0_scale=1.0, c0_random_seed=None\n",
            "Extracted from config_file d0_distribution=Normal, d0_loc=0.0, d0_scale=1.0, d0_random_seed=None\n",
            "Extracted from config_file k_type=exponentialQuadratic and k_lengthsales0=2.0\n",
            "Extracted from config_file ind_points_locs0_layout=uniform\n",
            "Extracted from config_file variational_mean0_constant_value=0.0\n",
            "Extracted from config_file variational_cov0_diag_value=0.1\n",
            "Extracted config_file_params_spec[optim_params][n_quad]=200\n",
            "Extracted config_file_params_spec[optim_params][prior_cov_reg_param]=0.001\n",
            "Extracted config_file_params_spec[optim_params][optim_method]=ECM\n",
            "Extracted config_file_params_spec[optim_params][em_max_iter]=10\n",
            "Extracted config_file_params_spec[optim_params][verbose]=True\n",
            "Extracted config_file_params_spec[optim_params][estep_estimate]=True\n",
            "Extracted config_file_params_spec[optim_params][estep_max_iter]=20\n",
            "Extracted config_file_params_spec[optim_params][estep_lr]=1.0\n",
            "Extracted config_file_params_spec[optim_params][estep_tolerance_grad]=1e-07\n",
            "Extracted config_file_params_spec[optim_params][estep_tolerance_change]=1e-09\n",
            "Extracted config_file_params_spec[optim_params][estep_line_search_fn]=strong_wolfe\n",
            "Extracted config_file_params_spec[optim_params][mstep_embedding_estimate]=True\n",
            "Extracted config_file_params_spec[optim_params][mstep_embedding_max_iter]=20\n",
            "Extracted config_file_params_spec[optim_params][mstep_embedding_lr]=1.0\n",
            "Extracted config_file_params_spec[optim_params][mstep_embedding_tolerance_grad]=1e-07\n",
            "Extracted config_file_params_spec[optim_params][mstep_embedding_tolerance_change]=1e-09\n",
            "Extracted config_file_params_spec[optim_params][mstep_embedding_line_search_fn]=strong_wolfe\n",
            "Extracted config_file_params_spec[optim_params][mstep_kernels_estimate]=True\n",
            "Extracted config_file_params_spec[optim_params][mstep_kernels_max_iter]=20\n",
            "Extracted config_file_params_spec[optim_params][mstep_kernels_lr]=0.01\n",
            "Extracted config_file_params_spec[optim_params][mstep_kernels_tolerance_grad]=1e-07\n",
            "Extracted config_file_params_spec[optim_params][mstep_kernels_tolerance_change]=1e-09\n",
            "Extracted config_file_params_spec[optim_params][mstep_kernels_line_search_fn]=strong_wolfe\n",
            "Extracted config_file_params_spec[optim_params][mstep_indpointslocs_estimate]=True\n",
            "Extracted config_file_params_spec[optim_params][mstep_indpointslocs_max_iter]=20\n",
            "Extracted config_file_params_spec[optim_params][mstep_indpointslocs_lr]=1.0\n",
            "Extracted config_file_params_spec[optim_params][mstep_indpointslocs_tolerance_grad]=1e-07\n",
            "Extracted config_file_params_spec[optim_params][mstep_indpointslocs_tolerance_change]=1e-09\n",
            "Extracted config_file_params_spec[optim_params][mstep_indpointslocs_line_search_fn]=strong_wolfe\n",
            "Extracted config_file_params_spec[optim_params][allsteps_estimate]=True\n",
            "Extracted config_file_params_spec[optim_params][allsteps_max_iter]=100\n",
            "Extracted config_file_params_spec[optim_params][allsteps_lr]=1.0\n",
            "Extracted config_file_params_spec[optim_params][allsteps_tolerance_grad]=0.0001\n",
            "Extracted config_file_params_spec[optim_params][allsteps_tolerance_change]=0.0001\n",
            "Extracted config_file_params_spec[optim_params][allsteps_line_search_fn]=strong_wolfe\n",
            "Iteration 01, start: -inf\n",
            "Iteration 01, end: 20084.016955, niter: 92, nfeval: 126\n",
            "Iteration 02, start: 20084.016955\n",
            "Iteration 02, end: 20612.523579, niter: 100, nfeval: 101\n",
            "Iteration 03, start: 20612.523579\n",
            "Iteration 03, end: 20642.818117, niter: 100, nfeval: 104\n",
            "Iteration 04, start: 20642.818117\n",
            "Iteration 04, end: 20656.049615, niter: 100, nfeval: 105\n",
            "Iteration 05, start: 20656.049615\n",
            "Iteration 05, end: 20663.560049, niter: 100, nfeval: 104\n",
            "Iteration 06, start: 20663.560049\n",
            "Iteration 06, end: 20667.406300, niter: 100, nfeval: 109\n",
            "Iteration 07, start: 20667.406300\n",
            "Iteration 07, end: 20669.674425, niter: 100, nfeval: 108\n",
            "Iteration 08, start: 20669.674425\n",
            "Iteration 08, end: 20671.051886, niter: 100, nfeval: 108\n",
            "Iteration 09, start: 20671.051886\n",
            "Iteration 09, end: 20671.882812, niter: 100, nfeval: 105\n",
            "Iteration 10, start: 20671.882812\n",
            "Iteration 10, end: 20672.352980, niter: 100, nfeval: 106\n",
            "Device cpu, Repeat 0: elapsed time 96.800952, elapsed time per function call 0.089964, lower bound 20672.352980\n",
            "Processing device cuda:0, repeat 0\n",
            "Extracted config_file_params_spec[optim_params][n_quad]=200\n",
            "Extracted config_file_params_spec[ind_points_locs_params0][n_ind_points]=tensor([9, 9], dtype=torch.int32)\n",
            "Extracted from config_file c0_distribution=Normal, c0_loc=0.0, c0_scale=1.0, c0_random_seed=None\n",
            "Extracted from config_file d0_distribution=Normal, d0_loc=0.0, d0_scale=1.0, d0_random_seed=None\n",
            "Extracted from config_file k_type=exponentialQuadratic and k_lengthsales0=2.0\n",
            "Extracted from config_file ind_points_locs0_layout=uniform\n",
            "Extracted from config_file variational_mean0_constant_value=0.0\n",
            "Extracted from config_file variational_cov0_diag_value=0.1\n",
            "Extracted config_file_params_spec[optim_params][n_quad]=200\n",
            "Extracted config_file_params_spec[optim_params][prior_cov_reg_param]=0.001\n",
            "Extracted config_file_params_spec[optim_params][optim_method]=ECM\n",
            "Extracted config_file_params_spec[optim_params][em_max_iter]=10\n",
            "Extracted config_file_params_spec[optim_params][verbose]=True\n",
            "Extracted config_file_params_spec[optim_params][estep_estimate]=True\n",
            "Extracted config_file_params_spec[optim_params][estep_max_iter]=20\n",
            "Extracted config_file_params_spec[optim_params][estep_lr]=1.0\n",
            "Extracted config_file_params_spec[optim_params][estep_tolerance_grad]=1e-07\n",
            "Extracted config_file_params_spec[optim_params][estep_tolerance_change]=1e-09\n",
            "Extracted config_file_params_spec[optim_params][estep_line_search_fn]=strong_wolfe\n",
            "Extracted config_file_params_spec[optim_params][mstep_embedding_estimate]=True\n",
            "Extracted config_file_params_spec[optim_params][mstep_embedding_max_iter]=20\n",
            "Extracted config_file_params_spec[optim_params][mstep_embedding_lr]=1.0\n",
            "Extracted config_file_params_spec[optim_params][mstep_embedding_tolerance_grad]=1e-07\n",
            "Extracted config_file_params_spec[optim_params][mstep_embedding_tolerance_change]=1e-09\n",
            "Extracted config_file_params_spec[optim_params][mstep_embedding_line_search_fn]=strong_wolfe\n",
            "Extracted config_file_params_spec[optim_params][mstep_kernels_estimate]=True\n",
            "Extracted config_file_params_spec[optim_params][mstep_kernels_max_iter]=20\n",
            "Extracted config_file_params_spec[optim_params][mstep_kernels_lr]=0.01\n",
            "Extracted config_file_params_spec[optim_params][mstep_kernels_tolerance_grad]=1e-07\n",
            "Extracted config_file_params_spec[optim_params][mstep_kernels_tolerance_change]=1e-09\n",
            "Extracted config_file_params_spec[optim_params][mstep_kernels_line_search_fn]=strong_wolfe\n",
            "Extracted config_file_params_spec[optim_params][mstep_indpointslocs_estimate]=True\n",
            "Extracted config_file_params_spec[optim_params][mstep_indpointslocs_max_iter]=20\n",
            "Extracted config_file_params_spec[optim_params][mstep_indpointslocs_lr]=1.0\n",
            "Extracted config_file_params_spec[optim_params][mstep_indpointslocs_tolerance_grad]=1e-07\n",
            "Extracted config_file_params_spec[optim_params][mstep_indpointslocs_tolerance_change]=1e-09\n",
            "Extracted config_file_params_spec[optim_params][mstep_indpointslocs_line_search_fn]=strong_wolfe\n",
            "Extracted config_file_params_spec[optim_params][allsteps_estimate]=True\n",
            "Extracted config_file_params_spec[optim_params][allsteps_max_iter]=100\n",
            "Extracted config_file_params_spec[optim_params][allsteps_lr]=1.0\n",
            "Extracted config_file_params_spec[optim_params][allsteps_tolerance_grad]=0.0001\n",
            "Extracted config_file_params_spec[optim_params][allsteps_tolerance_change]=0.0001\n",
            "Extracted config_file_params_spec[optim_params][allsteps_line_search_fn]=strong_wolfe\n",
            "Iteration 01, start: -inf\n",
            "Iteration 01, end: 3938.286383, niter: 74, nfeval: 125\n",
            "Iteration 02, start: 3938.286383\n",
            "Iteration 02, end: 28955.383774, niter: 89, nfeval: 125\n",
            "Iteration 03, start: 28955.383774\n",
            "Iteration 03, end: 48829.754783, niter: 100, nfeval: 119\n",
            "Iteration 04, start: 48829.754783\n",
            "Iteration 04, end: 67375.354398, niter: 100, nfeval: 109\n",
            "Iteration 05, start: 67375.354398\n",
            "Iteration 05, end: 79629.822310, niter: 100, nfeval: 105\n",
            "Iteration 06, start: 79629.822310\n",
            "Iteration 06, end: 85921.147375, niter: 100, nfeval: 108\n",
            "Iteration 07, start: 85921.147375\n",
            "Iteration 07, end: 89915.253200, niter: 100, nfeval: 106\n",
            "Iteration 08, start: 89915.253200\n",
            "Iteration 08, end: 89934.483457, niter: 4, nfeval: 7\n",
            "Iteration 09, start: 89934.483457\n",
            "Iteration 09, end: 93409.163362, niter: 100, nfeval: 110\n",
            "Iteration 10, start: 93409.163362\n",
            "Iteration 10, end: 96782.145129, niter: 100, nfeval: 107\n",
            "Device cuda:0, Repeat 0: elapsed time 126.170726, elapsed time per function call 0.123576, lower bound 96782.145129\n"
          ]
        }
      ],
      "source": [
        "devices = [\"cpu\", f\"cuda:{cuda_device_index}\"]\n",
        "elapsed_times = torch.empty((len(devices), n_repeats), dtype=torch.double)\n",
        "lower_bounds = torch.empty((len(devices), n_repeats), dtype=torch.double)\n",
        "num_fun_eval = torch.empty((len(devices), n_repeats), dtype=torch.double)\n",
        "num_iter = torch.empty((len(devices), n_repeats), dtype=torch.double)\n",
        "\n",
        "for d, device in enumerate(devices):\n",
        "    r = 0\n",
        "    while r < n_repeats:\n",
        "        print(f\"Processing device {device}, repeat {r}\")\n",
        "        #    finally, get the parameters from the dynamic,\n",
        "        #    configuration file and default parameter specifications\n",
        "        params, kernels_types = svGPFA.utils.initUtils.getParamsAndKernelsTypes(\n",
        "            n_trials=n_trials, n_neurons=n_neurons, n_latents=n_latents,\n",
        "            trials_start_times=trials_start_times,\n",
        "            trials_end_times=trials_end_times,\n",
        "            dynamic_params_spec={},\n",
        "            config_file_params_spec=config_file_params,\n",
        "            default_params_spec=default_params)\n",
        "\n",
        "        # build kernels\n",
        "        kernels_params0 = params[\"initial_params\"][\"posterior_on_latents\"][\"kernels_matrices_store\"][\"kernels_params0\"]\n",
        "        kernels = svGPFA.utils.miscUtils.buildKernels(\n",
        "            kernels_types=kernels_types, kernels_params=kernels_params0)\n",
        "\n",
        "        # create model\n",
        "        kernelMatrixInvMethod = svGPFA.stats.svGPFAModelFactory.kernelMatrixInvChol\n",
        "        indPointsCovRep = svGPFA.stats.svGPFAModelFactory.indPointsCovChol\n",
        "        model = svGPFA.stats.svGPFAModelFactory.SVGPFAModelFactory.buildModelPyTorch(\n",
        "            conditionalDist=svGPFA.stats.svGPFAModelFactory.PointProcess,\n",
        "            linkFunction=svGPFA.stats.svGPFAModelFactory.ExponentialLink,\n",
        "            embeddingType=svGPFA.stats.svGPFAModelFactory.LinearEmbedding,\n",
        "            kernels=kernels, kernelMatrixInvMethod=kernelMatrixInvMethod,\n",
        "            indPointsCovRep=indPointsCovRep)\n",
        "\n",
        "        model.setParamsAndData(\n",
        "            measurements=spikes_times,\n",
        "            initial_params=params[\"initial_params\"],\n",
        "            eLLCalculationParams=params[\"ell_calculation_params\"],\n",
        "            priorCovRegParam=params[\"optim_params\"][\"prior_cov_reg_param\"])\n",
        "\n",
        "        model.to(device=device)\n",
        "\n",
        "        # maximize lower bound\n",
        "        svEM = svGPFA.stats.svEM.SVEM_PyTorch()\n",
        "        try:\n",
        "            lowerBoundHist, elapsedTimeHist, terminationInfo,\\\n",
        "            iterationsModelParams, num_fun_eval[d, r], num_iter[d, r] = \\\n",
        "                svEM.maximizeSimultaneously(model=model,\n",
        "                                            optim_params=params[\"optim_params\"])\n",
        "            elapsed_times[d, r] = elapsedTimeHist[-1]\n",
        "            lower_bounds[d, r] = lowerBoundHist[-1]\n",
        "        except Exception as e:\n",
        "            print(\"Exception detected. Retrying\")\n",
        "            stack_trace = traceback.format_exc()\n",
        "            print(e)\n",
        "            print(stack_trace)\n",
        "        print(\"Device {:s}, Repeat {:d}: elapsed time {:f}, \"\n",
        "              \"elapsed time per function call {:f}, \"\n",
        "              \"lower bound {:f}\".format(device, r, elapsed_times[d, r],\n",
        "                                        elapsed_times[d, r]/num_fun_eval[d, r],\n",
        "                                        lower_bounds[d, r]))\n",
        "        r += 1\n"
      ]
    },
    {
      "cell_type": "markdown",
      "id": "eb8f0b52-7198-4da7-9dbe-f8a91c11bfd2",
      "metadata": {
        "id": "eb8f0b52-7198-4da7-9dbe-f8a91c11bfd2"
      },
      "source": [
        "## Plot results"
      ]
    },
    {
      "cell_type": "code",
      "execution_count": 8,
      "id": "33e5aa2c-7f8a-4f6a-8a7b-73bba96255dd",
      "metadata": {
        "id": "33e5aa2c-7f8a-4f6a-8a7b-73bba96255dd",
        "outputId": "7b79f20e-d716-43bd-ad38-0368b8491aa2",
        "colab": {
          "base_uri": "https://localhost:8080/",
          "height": 542
        }
      },
      "outputs": [
        {
          "output_type": "display_data",
          "data": {
            "text/html": [
              "<html>\n",
              "<head><meta charset=\"utf-8\" /></head>\n",
              "<body>\n",
              "    <div>            <script src=\"https://cdnjs.cloudflare.com/ajax/libs/mathjax/2.7.5/MathJax.js?config=TeX-AMS-MML_SVG\"></script><script type=\"text/javascript\">if (window.MathJax && window.MathJax.Hub && window.MathJax.Hub.Config) {window.MathJax.Hub.Config({SVG: {font: \"STIX-Web\"}});}</script>                <script type=\"text/javascript\">window.PlotlyConfig = {MathJaxConfig: 'local'};</script>\n",
              "        <script charset=\"utf-8\" src=\"https://cdn.plot.ly/plotly-2.24.1.min.js\"></script>                <div id=\"568ba44c-a139-46b3-929e-1c3f8c9a52b3\" class=\"plotly-graph-div\" style=\"height:525px; width:100%;\"></div>            <script type=\"text/javascript\">                                    window.PLOTLYENV=window.PLOTLYENV || {};                                    if (document.getElementById(\"568ba44c-a139-46b3-929e-1c3f8c9a52b3\")) {                    Plotly.newPlot(                        \"568ba44c-a139-46b3-929e-1c3f8c9a52b3\",                        [{\"hoverinfo\":\"text\",\"hovertext\":[\"elapsed time: 96.80095219612122\\u003cbr\\u003eelapsed_time_per_funcall: 0.08996371021944351\\u003cbr\\u003elower bound: 20672.35297959022\\u003cbr\\u003enum_fun_eval: 1076.0\\u003cbr\\u003enum_iter: 992.0\\u003cbr\\u003e\"],\"mode\":\"markers\",\"name\":\"cpu\",\"x\":[96.80095219612122],\"y\":[20672.35297959022],\"type\":\"scatter\"},{\"hoverinfo\":\"text\",\"hovertext\":[\"elapsed time: 126.17072558403015\\u003cbr\\u003eelapsed_time_per_funcall: 0.12357563720277194\\u003cbr\\u003elower bound: 96782.14512914179\\u003cbr\\u003enum_fun_eval: 1021.0\\u003cbr\\u003enum_iter: 867.0\\u003cbr\\u003e\"],\"mode\":\"markers\",\"name\":\"cuda:0\",\"x\":[126.17072558403015],\"y\":[96782.14512914179],\"type\":\"scatter\"}],                        {\"template\":{\"data\":{\"histogram2dcontour\":[{\"type\":\"histogram2dcontour\",\"colorbar\":{\"outlinewidth\":0,\"ticks\":\"\"},\"colorscale\":[[0.0,\"#0d0887\"],[0.1111111111111111,\"#46039f\"],[0.2222222222222222,\"#7201a8\"],[0.3333333333333333,\"#9c179e\"],[0.4444444444444444,\"#bd3786\"],[0.5555555555555556,\"#d8576b\"],[0.6666666666666666,\"#ed7953\"],[0.7777777777777778,\"#fb9f3a\"],[0.8888888888888888,\"#fdca26\"],[1.0,\"#f0f921\"]]}],\"choropleth\":[{\"type\":\"choropleth\",\"colorbar\":{\"outlinewidth\":0,\"ticks\":\"\"}}],\"histogram2d\":[{\"type\":\"histogram2d\",\"colorbar\":{\"outlinewidth\":0,\"ticks\":\"\"},\"colorscale\":[[0.0,\"#0d0887\"],[0.1111111111111111,\"#46039f\"],[0.2222222222222222,\"#7201a8\"],[0.3333333333333333,\"#9c179e\"],[0.4444444444444444,\"#bd3786\"],[0.5555555555555556,\"#d8576b\"],[0.6666666666666666,\"#ed7953\"],[0.7777777777777778,\"#fb9f3a\"],[0.8888888888888888,\"#fdca26\"],[1.0,\"#f0f921\"]]}],\"heatmap\":[{\"type\":\"heatmap\",\"colorbar\":{\"outlinewidth\":0,\"ticks\":\"\"},\"colorscale\":[[0.0,\"#0d0887\"],[0.1111111111111111,\"#46039f\"],[0.2222222222222222,\"#7201a8\"],[0.3333333333333333,\"#9c179e\"],[0.4444444444444444,\"#bd3786\"],[0.5555555555555556,\"#d8576b\"],[0.6666666666666666,\"#ed7953\"],[0.7777777777777778,\"#fb9f3a\"],[0.8888888888888888,\"#fdca26\"],[1.0,\"#f0f921\"]]}],\"heatmapgl\":[{\"type\":\"heatmapgl\",\"colorbar\":{\"outlinewidth\":0,\"ticks\":\"\"},\"colorscale\":[[0.0,\"#0d0887\"],[0.1111111111111111,\"#46039f\"],[0.2222222222222222,\"#7201a8\"],[0.3333333333333333,\"#9c179e\"],[0.4444444444444444,\"#bd3786\"],[0.5555555555555556,\"#d8576b\"],[0.6666666666666666,\"#ed7953\"],[0.7777777777777778,\"#fb9f3a\"],[0.8888888888888888,\"#fdca26\"],[1.0,\"#f0f921\"]]}],\"contourcarpet\":[{\"type\":\"contourcarpet\",\"colorbar\":{\"outlinewidth\":0,\"ticks\":\"\"}}],\"contour\":[{\"type\":\"contour\",\"colorbar\":{\"outlinewidth\":0,\"ticks\":\"\"},\"colorscale\":[[0.0,\"#0d0887\"],[0.1111111111111111,\"#46039f\"],[0.2222222222222222,\"#7201a8\"],[0.3333333333333333,\"#9c179e\"],[0.4444444444444444,\"#bd3786\"],[0.5555555555555556,\"#d8576b\"],[0.6666666666666666,\"#ed7953\"],[0.7777777777777778,\"#fb9f3a\"],[0.8888888888888888,\"#fdca26\"],[1.0,\"#f0f921\"]]}],\"surface\":[{\"type\":\"surface\",\"colorbar\":{\"outlinewidth\":0,\"ticks\":\"\"},\"colorscale\":[[0.0,\"#0d0887\"],[0.1111111111111111,\"#46039f\"],[0.2222222222222222,\"#7201a8\"],[0.3333333333333333,\"#9c179e\"],[0.4444444444444444,\"#bd3786\"],[0.5555555555555556,\"#d8576b\"],[0.6666666666666666,\"#ed7953\"],[0.7777777777777778,\"#fb9f3a\"],[0.8888888888888888,\"#fdca26\"],[1.0,\"#f0f921\"]]}],\"mesh3d\":[{\"type\":\"mesh3d\",\"colorbar\":{\"outlinewidth\":0,\"ticks\":\"\"}}],\"scatter\":[{\"fillpattern\":{\"fillmode\":\"overlay\",\"size\":10,\"solidity\":0.2},\"type\":\"scatter\"}],\"parcoords\":[{\"type\":\"parcoords\",\"line\":{\"colorbar\":{\"outlinewidth\":0,\"ticks\":\"\"}}}],\"scatterpolargl\":[{\"type\":\"scatterpolargl\",\"marker\":{\"colorbar\":{\"outlinewidth\":0,\"ticks\":\"\"}}}],\"bar\":[{\"error_x\":{\"color\":\"#2a3f5f\"},\"error_y\":{\"color\":\"#2a3f5f\"},\"marker\":{\"line\":{\"color\":\"#E5ECF6\",\"width\":0.5},\"pattern\":{\"fillmode\":\"overlay\",\"size\":10,\"solidity\":0.2}},\"type\":\"bar\"}],\"scattergeo\":[{\"type\":\"scattergeo\",\"marker\":{\"colorbar\":{\"outlinewidth\":0,\"ticks\":\"\"}}}],\"scatterpolar\":[{\"type\":\"scatterpolar\",\"marker\":{\"colorbar\":{\"outlinewidth\":0,\"ticks\":\"\"}}}],\"histogram\":[{\"marker\":{\"pattern\":{\"fillmode\":\"overlay\",\"size\":10,\"solidity\":0.2}},\"type\":\"histogram\"}],\"scattergl\":[{\"type\":\"scattergl\",\"marker\":{\"colorbar\":{\"outlinewidth\":0,\"ticks\":\"\"}}}],\"scatter3d\":[{\"type\":\"scatter3d\",\"line\":{\"colorbar\":{\"outlinewidth\":0,\"ticks\":\"\"}},\"marker\":{\"colorbar\":{\"outlinewidth\":0,\"ticks\":\"\"}}}],\"scattermapbox\":[{\"type\":\"scattermapbox\",\"marker\":{\"colorbar\":{\"outlinewidth\":0,\"ticks\":\"\"}}}],\"scatterternary\":[{\"type\":\"scatterternary\",\"marker\":{\"colorbar\":{\"outlinewidth\":0,\"ticks\":\"\"}}}],\"scattercarpet\":[{\"type\":\"scattercarpet\",\"marker\":{\"colorbar\":{\"outlinewidth\":0,\"ticks\":\"\"}}}],\"carpet\":[{\"aaxis\":{\"endlinecolor\":\"#2a3f5f\",\"gridcolor\":\"white\",\"linecolor\":\"white\",\"minorgridcolor\":\"white\",\"startlinecolor\":\"#2a3f5f\"},\"baxis\":{\"endlinecolor\":\"#2a3f5f\",\"gridcolor\":\"white\",\"linecolor\":\"white\",\"minorgridcolor\":\"white\",\"startlinecolor\":\"#2a3f5f\"},\"type\":\"carpet\"}],\"table\":[{\"cells\":{\"fill\":{\"color\":\"#EBF0F8\"},\"line\":{\"color\":\"white\"}},\"header\":{\"fill\":{\"color\":\"#C8D4E3\"},\"line\":{\"color\":\"white\"}},\"type\":\"table\"}],\"barpolar\":[{\"marker\":{\"line\":{\"color\":\"#E5ECF6\",\"width\":0.5},\"pattern\":{\"fillmode\":\"overlay\",\"size\":10,\"solidity\":0.2}},\"type\":\"barpolar\"}],\"pie\":[{\"automargin\":true,\"type\":\"pie\"}]},\"layout\":{\"autotypenumbers\":\"strict\",\"colorway\":[\"#636efa\",\"#EF553B\",\"#00cc96\",\"#ab63fa\",\"#FFA15A\",\"#19d3f3\",\"#FF6692\",\"#B6E880\",\"#FF97FF\",\"#FECB52\"],\"font\":{\"color\":\"#2a3f5f\"},\"hovermode\":\"closest\",\"hoverlabel\":{\"align\":\"left\"},\"paper_bgcolor\":\"white\",\"plot_bgcolor\":\"#E5ECF6\",\"polar\":{\"bgcolor\":\"#E5ECF6\",\"angularaxis\":{\"gridcolor\":\"white\",\"linecolor\":\"white\",\"ticks\":\"\"},\"radialaxis\":{\"gridcolor\":\"white\",\"linecolor\":\"white\",\"ticks\":\"\"}},\"ternary\":{\"bgcolor\":\"#E5ECF6\",\"aaxis\":{\"gridcolor\":\"white\",\"linecolor\":\"white\",\"ticks\":\"\"},\"baxis\":{\"gridcolor\":\"white\",\"linecolor\":\"white\",\"ticks\":\"\"},\"caxis\":{\"gridcolor\":\"white\",\"linecolor\":\"white\",\"ticks\":\"\"}},\"coloraxis\":{\"colorbar\":{\"outlinewidth\":0,\"ticks\":\"\"}},\"colorscale\":{\"sequential\":[[0.0,\"#0d0887\"],[0.1111111111111111,\"#46039f\"],[0.2222222222222222,\"#7201a8\"],[0.3333333333333333,\"#9c179e\"],[0.4444444444444444,\"#bd3786\"],[0.5555555555555556,\"#d8576b\"],[0.6666666666666666,\"#ed7953\"],[0.7777777777777778,\"#fb9f3a\"],[0.8888888888888888,\"#fdca26\"],[1.0,\"#f0f921\"]],\"sequentialminus\":[[0.0,\"#0d0887\"],[0.1111111111111111,\"#46039f\"],[0.2222222222222222,\"#7201a8\"],[0.3333333333333333,\"#9c179e\"],[0.4444444444444444,\"#bd3786\"],[0.5555555555555556,\"#d8576b\"],[0.6666666666666666,\"#ed7953\"],[0.7777777777777778,\"#fb9f3a\"],[0.8888888888888888,\"#fdca26\"],[1.0,\"#f0f921\"]],\"diverging\":[[0,\"#8e0152\"],[0.1,\"#c51b7d\"],[0.2,\"#de77ae\"],[0.3,\"#f1b6da\"],[0.4,\"#fde0ef\"],[0.5,\"#f7f7f7\"],[0.6,\"#e6f5d0\"],[0.7,\"#b8e186\"],[0.8,\"#7fbc41\"],[0.9,\"#4d9221\"],[1,\"#276419\"]]},\"xaxis\":{\"gridcolor\":\"white\",\"linecolor\":\"white\",\"ticks\":\"\",\"title\":{\"standoff\":15},\"zerolinecolor\":\"white\",\"automargin\":true,\"zerolinewidth\":2},\"yaxis\":{\"gridcolor\":\"white\",\"linecolor\":\"white\",\"ticks\":\"\",\"title\":{\"standoff\":15},\"zerolinecolor\":\"white\",\"automargin\":true,\"zerolinewidth\":2},\"scene\":{\"xaxis\":{\"backgroundcolor\":\"#E5ECF6\",\"gridcolor\":\"white\",\"linecolor\":\"white\",\"showbackground\":true,\"ticks\":\"\",\"zerolinecolor\":\"white\",\"gridwidth\":2},\"yaxis\":{\"backgroundcolor\":\"#E5ECF6\",\"gridcolor\":\"white\",\"linecolor\":\"white\",\"showbackground\":true,\"ticks\":\"\",\"zerolinecolor\":\"white\",\"gridwidth\":2},\"zaxis\":{\"backgroundcolor\":\"#E5ECF6\",\"gridcolor\":\"white\",\"linecolor\":\"white\",\"showbackground\":true,\"ticks\":\"\",\"zerolinecolor\":\"white\",\"gridwidth\":2}},\"shapedefaults\":{\"line\":{\"color\":\"#2a3f5f\"}},\"annotationdefaults\":{\"arrowcolor\":\"#2a3f5f\",\"arrowhead\":0,\"arrowwidth\":1},\"geo\":{\"bgcolor\":\"white\",\"landcolor\":\"#E5ECF6\",\"subunitcolor\":\"white\",\"showland\":true,\"showlakes\":true,\"lakecolor\":\"white\"},\"title\":{\"x\":0.05},\"mapbox\":{\"style\":\"light\"}}},\"xaxis\":{\"title\":{\"text\":\"Elapsed Time (sec)\"}},\"yaxis\":{\"title\":{\"text\":\"Lower Bound\"}}},                        {\"responsive\": true}                    ).then(function(){\n",
              "                            \n",
              "var gd = document.getElementById('568ba44c-a139-46b3-929e-1c3f8c9a52b3');\n",
              "var x = new MutationObserver(function (mutations, observer) {{\n",
              "        var display = window.getComputedStyle(gd).display;\n",
              "        if (!display || display === 'none') {{\n",
              "            console.log([gd, 'removed!']);\n",
              "            Plotly.purge(gd);\n",
              "            observer.disconnect();\n",
              "        }}\n",
              "}});\n",
              "\n",
              "// Listen for the removal of the full notebook cells\n",
              "var notebookContainer = gd.closest('#notebook-container');\n",
              "if (notebookContainer) {{\n",
              "    x.observe(notebookContainer, {childList: true});\n",
              "}}\n",
              "\n",
              "// Listen for the clearing of the current output cell\n",
              "var outputEl = gd.closest('.output');\n",
              "if (outputEl) {{\n",
              "    x.observe(outputEl, {childList: true});\n",
              "}}\n",
              "\n",
              "                        })                };                            </script>        </div>\n",
              "</body>\n",
              "</html>"
            ]
          },
          "metadata": {}
        }
      ],
      "source": [
        "hoovertext = [[],[]]\n",
        "for d, device in enumerate(devices):\n",
        "    for r in range(n_repeats):\n",
        "        hoovertext[d].append(\n",
        "            (f\"elapsed time: {elapsed_times[d,r]}<br>\"\n",
        "             f\"elapsed_time_per_funcall: \"\n",
        "             f\"{elapsed_times[d,r]/num_fun_eval[d,r]}<br>\"\n",
        "             f\"lower bound: {lower_bounds[d,r]}<br>\"\n",
        "             f\"num_fun_eval: {num_fun_eval[d,r]}<br>\"\n",
        "             f\"num_iter: {num_iter[d,r]}<br>\"\n",
        "             )\n",
        "            )\n",
        "\n",
        "fig = go.Figure()\n",
        "for d in range(len(devices)):\n",
        "    trace = go.Scatter(x=elapsed_times[d,:], y=lower_bounds[d, :],\n",
        "                       mode=\"markers\", name=devices[d],\n",
        "                       hovertext=hoovertext[d], hoverinfo=\"text\")\n",
        "    fig.add_trace(trace)\n",
        "fig.update_layout(xaxis_title=\"Elapsed Time (sec)\")\n",
        "fig.update_layout(yaxis_title=\"Lower Bound\")\n",
        "\n",
        "fig"
      ]
    }
  ],
  "metadata": {
    "kernelspec": {
      "display_name": "Python 3",
      "name": "python3"
    },
    "language_info": {
      "codemirror_mode": {
        "name": "ipython",
        "version": 3
      },
      "file_extension": ".py",
      "mimetype": "text/x-python",
      "name": "python",
      "nbconvert_exporter": "python",
      "pygments_lexer": "ipython3",
      "version": "3.9.16"
    },
    "colab": {
      "provenance": [],
      "gpuType": "T4"
    },
    "accelerator": "GPU"
  },
  "nbformat": 4,
  "nbformat_minor": 5
}